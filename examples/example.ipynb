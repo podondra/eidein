{
 "cells": [
  {
   "cell_type": "markdown",
   "metadata": {
    "slideshow": {
     "slide_type": "-"
    },
    "tags": []
   },
   "source": [
    "# eidein\n",
    "\n",
    "Interactive tool for dimensionality reduction of astronomical data and their visualisation."
   ]
  },
  {
   "cell_type": "code",
   "execution_count": 1,
   "metadata": {
    "slideshow": {
     "slide_type": "-"
    }
   },
   "outputs": [],
   "source": [
    "%matplotlib widget\n",
    "\n",
    "from astropy.modeling import models, fitting\n",
    "import h5py\n",
    "import ipywidgets\n",
    "import matplotlib.pyplot as plt\n",
    "import numpy as np\n",
    "\n",
    "from eidein import Eidein"
   ]
  },
  {
   "cell_type": "markdown",
   "metadata": {
    "slideshow": {
     "slide_type": "-"
    }
   },
   "source": [
    "## Data"
   ]
  },
  {
   "cell_type": "code",
   "execution_count": 2,
   "metadata": {
    "slideshow": {
     "slide_type": "-"
    }
   },
   "outputs": [],
   "source": [
    "SIZE = 2048"
   ]
  },
  {
   "cell_type": "code",
   "execution_count": 3,
   "metadata": {
    "slideshow": {
     "slide_type": "-"
    }
   },
   "outputs": [
    {
     "name": "stdout",
     "output_type": "stream",
     "text": [
      "<KeysViewHDF5 ['X', 'entropy', 'entropy_std', 'id', 'mutual_information', 'pipe_corr_10k', 'sn_median_all', 'source_z', 'variation_ratio', 'z', 'z_10k', 'z_pca', 'z_pipe', 'z_pred', 'z_pred_std', 'z_qn', 'z_vi', 'zs_pred']>\n"
     ]
    },
    {
     "data": {
      "text/plain": [
       "(dtype('int32'), dtype('float32'), dtype('float64'), dtype('float32'))"
      ]
     },
     "execution_count": 3,
     "metadata": {},
     "output_type": "execute_result"
    }
   ],
   "source": [
    "# TODO should I take only those with high S/N?\n",
    "with h5py.File(\"data/dr16q_superset.hdf5\", \"r\") as datafile:\n",
    "    print(datafile.keys())\n",
    "    n = datafile[\"id\"].shape[0]\n",
    "    mi = datafile[\"mutual_information\"][:]\n",
    "    idx = np.sort(np.argsort(mi)[-2048:])\n",
    "    uncertainty = mi[idx]\n",
    "    ids = datafile[\"id\"][idx]\n",
    "    X = datafile[\"X\"][idx]\n",
    "    predictions = datafile[\"z_pred\"][idx]\n",
    "ids.dtype, X.dtype, uncertainty.dtype, predictions.dtype"
   ]
  },
  {
   "cell_type": "code",
   "execution_count": 4,
   "metadata": {},
   "outputs": [],
   "source": [
    "def id2filename(plate, mjd, fiberid):\n",
    "    return \"spec-{:04d}-{}-{:04d}.fits\".format(plate, mjd, fiberid)\n",
    "\n",
    "vec_id2filename = np.vectorize(id2filename)\n",
    "identifiers = vec_id2filename(ids[:, 0], ids[:, 1], ids[:, 2])"
   ]
  },
  {
   "cell_type": "code",
   "execution_count": 5,
   "metadata": {
    "slideshow": {
     "slide_type": "-"
    }
   },
   "outputs": [
    {
     "data": {
      "application/vnd.jupyter.widget-view+json": {
       "model_id": "5fcc41fd039f436f9224f6536c2f15ae",
       "version_major": 2,
       "version_minor": 0
      },
      "text/plain": [
       "Canvas(toolbar=Toolbar(toolitems=[('Home', 'Reset original view', 'home', 'home'), ('Back', 'Back to previous …"
      ]
     },
     "metadata": {},
     "output_type": "display_data"
    },
    {
     "data": {
      "text/plain": [
       "Text(0, 0.5, 'Count')"
      ]
     },
     "execution_count": 5,
     "metadata": {},
     "output_type": "execute_result"
    }
   ],
   "source": [
    "fig, ax = plt.subplots()\n",
    "ax.hist(mi)\n",
    "ax.set_xlabel(\"Mutual Information\")\n",
    "ax.set_ylabel(\"Count\")"
   ]
  },
  {
   "cell_type": "code",
   "execution_count": 6,
   "metadata": {},
   "outputs": [],
   "source": [
    "LOGLAMMIN, LOGLAMMAX = 3.5832, 3.9583\n",
    "N_FEATURES = 3752\n",
    "LAM = np.power(10, np.linspace(LOGLAMMIN, LOGLAMMAX, N_FEATURES))\n",
    "LINES = [\n",
    "    (1033.82, \"O VI\"),\n",
    "    (1215.24, \"Lyα\"),\n",
    "    #(1240.81, \"N V\"),\n",
    "    #(1399.8, \"Si IV + O IV\"),\n",
    "    (1549.48, \"C IV\"),\n",
    "    (1908.734, \"C III\"),\n",
    "    (2326.0, \"C II\"),\n",
    "    (2799.117, \"Mg II\"),\n",
    "    #(3727.092, \"O II\"),\n",
    "    (4102.89, \"HΔ\"),\n",
    "    (4341.68, \"Hγ\"),\n",
    "    (4862.68, \"Hβ\"),\n",
    "    #(4960.295, \"O III\"),\n",
    "    #(5008.240, \"O III\"),\n",
    "    (6564.61, \"Hα\")]\n",
    "ARROWPROPS = {\"arrowstyle\": \"-|>\", \"facecolor\": \"black\"}\n",
    "\n",
    "def z2lam_emit(z, lam_obsv):\n",
    "    return lam_obsv / (1 + z)\n",
    "\n",
    "def plot_function(ax, filename, flux, y, label, lam=LAM):\n",
    "    label_str = \"{}\\n$\\hat{{z}} = {:.2f}$\\n$z = {:.2f}$ (shown)\".format(\n",
    "        filename, y, label)\n",
    "    \n",
    "    lam_emit = [z2lam_emit(label, l) for l in lam]\n",
    "    ax.plot(lam_emit, flux, label=label_str)\n",
    "    ax.legend()\n",
    "    ax.set_xlabel(\"Rest Frame Wavelength [Å]\")\n",
    "    ax.set_ylabel(\"Flux [10$^{-17}$ erg cm$^{-2}$ s$^{-1}$ Å$^{-1}$]\")\n",
    "    \n",
    "    # plot spectral lines\n",
    "    for line, name in LINES:\n",
    "        ax.annotate(\n",
    "            name,\n",
    "            xy=(line, 0), xytext=(line, -2),\n",
    "            arrowprops=ARROWPROPS,\n",
    "            horizontalalignment='center')"
   ]
  },
  {
   "cell_type": "code",
   "execution_count": 7,
   "metadata": {
    "slideshow": {
     "slide_type": "-"
    }
   },
   "outputs": [
    {
     "data": {
      "application/vnd.jupyter.widget-view+json": {
       "model_id": "cd66264d9cb348f9a1533eb1229b9c72",
       "version_major": 2,
       "version_minor": 0
      },
      "text/plain": [
       "Canvas(toolbar=Toolbar(toolitems=[('Home', 'Reset original view', 'home', 'home'), ('Back', 'Back to previous …"
      ]
     },
     "metadata": {},
     "output_type": "display_data"
    }
   ],
   "source": [
    "rnd_i = np.random.randint(SIZE)\n",
    "fig, ax = plt.subplots()\n",
    "plot_function(ax, identifiers[rnd_i], X[rnd_i], predictions[rnd_i], predictions[rnd_i])"
   ]
  },
  {
   "cell_type": "code",
   "execution_count": 8,
   "metadata": {
    "scrolled": false
   },
   "outputs": [
    {
     "data": {
      "application/vnd.jupyter.widget-view+json": {
       "model_id": "82a8ab08bb2f4aaa8331e6282c8642ba",
       "version_major": 2,
       "version_minor": 0
      },
      "text/plain": [
       "Eidein(children=(Tab(children=(interactive(children=(Checkbox(value=False, description='whiten'), Dropdown(des…"
      ]
     },
     "metadata": {},
     "output_type": "display_data"
    }
   ],
   "source": [
    "label_widget = ipywidgets.FloatText(description=\"Redshift:\", step=0.01)\n",
    "eidein = Eidein(identifiers, X, predictions, uncertainty, plot_function, label_widget)\n",
    "display(eidein)"
   ]
  },
  {
   "cell_type": "code",
   "execution_count": 10,
   "metadata": {},
   "outputs": [
    {
     "data": {
      "text/plain": [
       "{'spec-6703-56636-0134.fits': 0.195}"
      ]
     },
     "execution_count": 10,
     "metadata": {},
     "output_type": "execute_result"
    }
   ],
   "source": [
    "eidein.labelled"
   ]
  }
 ],
 "metadata": {
  "kernelspec": {
   "display_name": "Python 3 (ipykernel)",
   "language": "python",
   "name": "python3"
  },
  "language_info": {
   "codemirror_mode": {
    "name": "ipython",
    "version": 3
   },
   "file_extension": ".py",
   "mimetype": "text/x-python",
   "name": "python",
   "nbconvert_exporter": "python",
   "pygments_lexer": "ipython3",
   "version": "3.9.5"
  }
 },
 "nbformat": 4,
 "nbformat_minor": 4
}
