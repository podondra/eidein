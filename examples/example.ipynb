{
 "cells": [
  {
   "cell_type": "markdown",
   "metadata": {
    "slideshow": {
     "slide_type": "-"
    },
    "tags": []
   },
   "source": [
    "# eidein\n",
    "\n",
    "Interactive tool for dimensionality reduction of astronomical data and their visualisation."
   ]
  },
  {
   "cell_type": "code",
   "execution_count": null,
   "metadata": {
    "slideshow": {
     "slide_type": "-"
    }
   },
   "outputs": [],
   "source": [
    "%matplotlib widget\n",
    "\n",
    "import h5py\n",
    "import ipywidgets\n",
    "import numpy as np\n",
    "\n",
    "from eidein import Eidein\n",
    "\n",
    "from plot import plot_function"
   ]
  },
  {
   "cell_type": "code",
   "execution_count": null,
   "metadata": {},
   "outputs": [],
   "source": [
    "with h5py.File(\"dataset.hdf5\", \"r\") as datafile:\n",
    "    ids = datafile[\"ids\"][:]\n",
    "    X = datafile[\"X\"][:]\n",
    "    uncertainty = datafile[\"uncertainty\"][:]\n",
    "    predictions = datafile[\"predictions\"][:]\n",
    "ids.dtype, X.dtype, uncertainty.dtype, predictions.dtype\n",
    "\n",
    "def id2filename(plate, mjd, fiberid):\n",
    "    return \"spec-{:04d}-{}-{:04d}.fits\".format(plate, mjd, fiberid)\n",
    "\n",
    "vec_id2filename = np.vectorize(id2filename)\n",
    "identifiers = vec_id2filename(ids[:, 0], ids[:, 1], ids[:, 2])"
   ]
  },
  {
   "cell_type": "code",
   "execution_count": null,
   "metadata": {},
   "outputs": [],
   "source": [
    "label_widget = ipywidgets.FloatText(description=\"Redshift:\", step=0.01)\n",
    "eidein = Eidein(identifiers, X, predictions, uncertainty, plot_function, label_widget)\n",
    "display(eidein)"
   ]
  },
  {
   "cell_type": "code",
   "execution_count": null,
   "metadata": {},
   "outputs": [],
   "source": [
    "eidein.labelled"
   ]
  }
 ],
 "metadata": {
  "kernelspec": {
   "display_name": "Python 3 (ipykernel)",
   "language": "python",
   "name": "python3"
  },
  "language_info": {
   "codemirror_mode": {
    "name": "ipython",
    "version": 3
   },
   "file_extension": ".py",
   "mimetype": "text/x-python",
   "name": "python",
   "nbconvert_exporter": "python",
   "pygments_lexer": "ipython3",
   "version": "3.9.7"
  }
 },
 "nbformat": 4,
 "nbformat_minor": 4
}
