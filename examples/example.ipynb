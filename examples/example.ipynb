{
 "cells": [
  {
   "cell_type": "markdown",
   "metadata": {
    "slideshow": {
     "slide_type": "-"
    },
    "tags": []
   },
   "source": [
    "# eidein\n",
    "\n",
    "Interactive tool for dimensionality reduction of astronomical data and their visualisation."
   ]
  },
  {
   "cell_type": "code",
   "execution_count": 1,
   "metadata": {
    "slideshow": {
     "slide_type": "-"
    }
   },
   "outputs": [],
   "source": [
    "%matplotlib widget\n",
    "\n",
    "from astropy.modeling import models, fitting\n",
    "import h5py\n",
    "import ipywidgets\n",
    "import matplotlib.pyplot as plt\n",
    "import numpy as np\n",
    "\n",
    "from eidein import Eidein"
   ]
  },
  {
   "cell_type": "markdown",
   "metadata": {
    "slideshow": {
     "slide_type": "-"
    }
   },
   "source": [
    "## Data"
   ]
  },
  {
   "cell_type": "code",
   "execution_count": 2,
   "metadata": {
    "slideshow": {
     "slide_type": "-"
    }
   },
   "outputs": [],
   "source": [
    "SIZE = 2048"
   ]
  },
  {
   "cell_type": "code",
   "execution_count": 3,
   "metadata": {
    "slideshow": {
     "slide_type": "-"
    }
   },
   "outputs": [
    {
     "name": "stdout",
     "output_type": "stream",
     "text": [
      "<KeysViewHDF5 ['X', 'entropy', 'entropy_std', 'id', 'mutual_information', 'pipe_corr_10k', 'sn_median_all', 'source_z', 'variation_ratio', 'z', 'z_10k', 'z_pca', 'z_pipe', 'z_pred', 'z_pred_std', 'z_qn', 'z_vi', 'zs_pred']>\n"
     ]
    },
    {
     "data": {
      "text/plain": [
       "(dtype('int32'), dtype('float32'), dtype('float64'), dtype('float32'))"
      ]
     },
     "execution_count": 3,
     "metadata": {},
     "output_type": "execute_result"
    }
   ],
   "source": [
    "# TODO should I take only those with high S/N?\n",
    "with h5py.File(\"data/dr16q_superset.hdf5\", \"r\") as datafile:\n",
    "    print(datafile.keys())\n",
    "    n = datafile[\"id\"].shape[0]\n",
    "    mi = datafile[\"mutual_information\"][:]\n",
    "    idx = np.sort(np.argsort(mi)[-2048:])\n",
    "    mi = mi[idx]\n",
    "    ids = datafile[\"id\"][idx]\n",
    "    X = datafile[\"X\"][idx]\n",
    "    z_pred = datafile[\"z_pred\"][idx]\n",
    "ids.dtype, X.dtype, mi.dtype, z_pred.dtype"
   ]
  },
  {
   "cell_type": "code",
   "execution_count": 4,
   "metadata": {
    "slideshow": {
     "slide_type": "-"
    }
   },
   "outputs": [
    {
     "data": {
      "application/vnd.jupyter.widget-view+json": {
       "model_id": "8c4a899ba2ae401caf9e9fb83cc2374b",
       "version_major": 2,
       "version_minor": 0
      },
      "text/plain": [
       "Canvas(toolbar=Toolbar(toolitems=[('Home', 'Reset original view', 'home', 'home'), ('Back', 'Back to previous …"
      ]
     },
     "metadata": {},
     "output_type": "display_data"
    },
    {
     "data": {
      "text/plain": [
       "Text(0, 0.5, 'Count')"
      ]
     },
     "execution_count": 4,
     "metadata": {},
     "output_type": "execute_result"
    }
   ],
   "source": [
    "fig, ax = plt.subplots()\n",
    "ax.hist(mi)\n",
    "ax.set_xlabel(\"Mutual Information\")\n",
    "ax.set_ylabel(\"Count\")"
   ]
  },
  {
   "cell_type": "code",
   "execution_count": 5,
   "metadata": {},
   "outputs": [],
   "source": [
    "LOGLAMMIN, LOGLAMMAX = 3.5832, 3.9583\n",
    "N_FEATURES = 3752\n",
    "WAVE = np.power(10, np.linspace(LOGLAMMIN, LOGLAMMAX, N_FEATURES))\n",
    "\n",
    "def plot_sdss_spectrum(ax, identifier, flux, y, label, wave=WAVE):\n",
    "    plate, mjd, fiberid = identifier\n",
    "    label_str = \"spec-{:04d}-{}-{:04d}.fits\\n$\\hat{{z}} = {:.2f}$\\n$z = {:.2f}$\".format(\n",
    "        plate, mjd, fiberid, y, label)\n",
    "    ax.plot(wave, flux, label=label_str)\n",
    "    ax.legend()\n",
    "    ax.set_xlabel(\"Observed Wavelength [Å]\")\n",
    "    ax.set_ylabel(\"Flux [10$^{-17}$ erg cm$^{-2}$ s$^{-1}$ Å$^{-1}$]\")"
   ]
  },
  {
   "cell_type": "code",
   "execution_count": 12,
   "metadata": {},
   "outputs": [
    {
     "data": {
      "text/plain": [
       "[(3727.092, 'O\\\\,\\\\textsc{\\\\lowercase{II}}'),\n",
       " (4102.89, 'H\\\\,$\\\\Updelta$'),\n",
       " (4341.68, 'H\\\\,$\\\\upgamma$'),\n",
       " (4862.68, 'H\\\\,$\\\\upbeta$'),\n",
       " (5008.24, 'O\\\\,\\\\textsc{\\\\lowercase{III}}'),\n",
       " (6564.61, 'H\\\\,$\\\\upalpha$')]"
      ]
     },
     "execution_count": 12,
     "metadata": {},
     "output_type": "execute_result"
    }
   ],
   "source": [
    "lines = [\n",
    "    (3727.092, \"O\\,\\\\textsc{\\lowercase{II}}\"),\n",
    "    (4102.89, \"H\\,$\\\\Updelta$\"),\n",
    "    (4341.68, \"H\\,$\\\\upgamma$\"),\n",
    "    (4862.68, \"H\\,$\\\\upbeta$\"),\n",
    "    (5008.240, \"O\\,\\\\textsc{\\lowercase{III}}\"),\n",
    "    (6564.61, \"H\\,$\\\\upalpha$\")]\n",
    "lines"
   ]
  },
  {
   "cell_type": "code",
   "execution_count": 6,
   "metadata": {
    "slideshow": {
     "slide_type": "-"
    }
   },
   "outputs": [
    {
     "data": {
      "application/vnd.jupyter.widget-view+json": {
       "model_id": "9719e73e81e14b81bd0e78f0bfdebaa0",
       "version_major": 2,
       "version_minor": 0
      },
      "text/plain": [
       "Canvas(toolbar=Toolbar(toolitems=[('Home', 'Reset original view', 'home', 'home'), ('Back', 'Back to previous …"
      ]
     },
     "metadata": {},
     "output_type": "display_data"
    }
   ],
   "source": [
    "rnd_i = np.random.randint(SIZE)\n",
    "fig, ax = plt.subplots()\n",
    "plot_sdss_spectrum(ax, ids[rnd_i], X[rnd_i], z_pred[rnd_i], 0.0)"
   ]
  },
  {
   "cell_type": "code",
   "execution_count": 7,
   "metadata": {},
   "outputs": [
    {
     "data": {
      "application/vnd.jupyter.widget-view+json": {
       "model_id": "2aeccef16d704cb1ac9ba30d09150dfa",
       "version_major": 2,
       "version_minor": 0
      },
      "text/plain": [
       "FloatText(value=0.0, description='redshift:', step=0.01)"
      ]
     },
     "metadata": {},
     "output_type": "display_data"
    }
   ],
   "source": [
    "widget_label = ipywidgets.FloatText(\n",
    "    description=\"redshift:\",\n",
    "    step=0.01\n",
    ")\n",
    "display(widget_label)"
   ]
  },
  {
   "cell_type": "code",
   "execution_count": 8,
   "metadata": {
    "slideshow": {
     "slide_type": "-"
    }
   },
   "outputs": [],
   "source": [
    "eidein = Eidein(ids, X, mi, plot_sdss_spectrum, widget_label)"
   ]
  },
  {
   "cell_type": "code",
   "execution_count": 9,
   "metadata": {},
   "outputs": [
    {
     "data": {
      "application/vnd.jupyter.widget-view+json": {
       "model_id": "06504e6ad17d4be88b0441c279e8def6",
       "version_major": 2,
       "version_minor": 0
      },
      "text/plain": [
       "Eidein(children=(Tab(children=(interactive(children=(Checkbox(value=False, description='whiten'), Dropdown(des…"
      ]
     },
     "metadata": {},
     "output_type": "display_data"
    }
   ],
   "source": [
    "display(eidein)"
   ]
  },
  {
   "cell_type": "code",
   "execution_count": 10,
   "metadata": {},
   "outputs": [
    {
     "data": {
      "text/plain": [
       "array([[  266, 51630,   161],\n",
       "       [  268, 51633,   160],\n",
       "       [  270, 51909,    83],\n",
       "       ...,\n",
       "       [ 9611, 58107,   527],\n",
       "       [ 9611, 58107,   934],\n",
       "       [ 9611, 58136,   932]], dtype=int32)"
      ]
     },
     "execution_count": 10,
     "metadata": {},
     "output_type": "execute_result"
    }
   ],
   "source": [
    "eidein.ids"
   ]
  }
 ],
 "metadata": {
  "kernelspec": {
   "display_name": "Python 3 (ipykernel)",
   "language": "python",
   "name": "python3"
  },
  "language_info": {
   "codemirror_mode": {
    "name": "ipython",
    "version": 3
   },
   "file_extension": ".py",
   "mimetype": "text/x-python",
   "name": "python",
   "nbconvert_exporter": "python",
   "pygments_lexer": "ipython3",
   "version": "3.9.5"
  }
 },
 "nbformat": 4,
 "nbformat_minor": 4
}
