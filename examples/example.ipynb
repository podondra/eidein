{
 "cells": [
  {
   "cell_type": "markdown",
   "metadata": {
    "slideshow": {
     "slide_type": "-"
    },
    "tags": []
   },
   "source": [
    "# eidein\n",
    "\n",
    "Interactive tool for dimensionality reduction of astronomical data and their visualisation."
   ]
  },
  {
   "cell_type": "code",
   "execution_count": null,
   "metadata": {
    "slideshow": {
     "slide_type": "-"
    }
   },
   "outputs": [],
   "source": [
    "%matplotlib widget\n",
    "\n",
    "from astropy.modeling import models, fitting\n",
    "import h5py\n",
    "import ipywidgets\n",
    "import matplotlib.pyplot as plt\n",
    "import numpy as np\n",
    "\n",
    "from eidein import Eidein"
   ]
  },
  {
   "cell_type": "code",
   "execution_count": null,
   "metadata": {},
   "outputs": [],
   "source": [
    "with h5py.File(\"dataset.hdf5\", \"r\") as datafile:\n",
    "    ids = datafile[\"ids\"][:]\n",
    "    X = datafile[\"X\"][:]\n",
    "    uncertainty = datafile[\"uncertainty\"][:]\n",
    "    predictions = datafile[\"predictions\"][:]\n",
    "ids.dtype, X.dtype, uncertainty.dtype, predictions.dtype\n",
    "\n",
    "def id2filename(plate, mjd, fiberid):\n",
    "    return \"spec-{:04d}-{}-{:04d}.fits\".format(plate, mjd, fiberid)\n",
    "\n",
    "vec_id2filename = np.vectorize(id2filename)\n",
    "identifiers = vec_id2filename(ids[:, 0], ids[:, 1], ids[:, 2])"
   ]
  },
  {
   "cell_type": "code",
   "execution_count": null,
   "metadata": {},
   "outputs": [],
   "source": [
    "LOGLAMMIN, LOGLAMMAX = 3.5832, 3.9583\n",
    "N_FEATURES = 3752\n",
    "LAM = np.power(10, np.linspace(LOGLAMMIN, LOGLAMMAX, N_FEATURES))\n",
    "LINES = [\n",
    "    (1033.82, \"O VI\"),\n",
    "    (1215.24, \"Lyα\"),\n",
    "    (1549.48, \"C IV\"),\n",
    "    (1908.734, \"C III\"),\n",
    "    (2326.0, \"C II\"),\n",
    "    (2799.117, \"Mg II\"),\n",
    "    (4102.89, \"HΔ\"),\n",
    "    (4341.68, \"Hγ\"),\n",
    "    (4862.68, \"Hβ\"),\n",
    "    (6564.61, \"Hα\")]\n",
    "ARROWPROPS = {\"arrowstyle\": \"-|>\", \"facecolor\": \"black\"}\n",
    "\n",
    "def z2lam_emit(z, lam_obsv):\n",
    "    return lam_obsv / (1 + z)\n",
    "\n",
    "def plot_function(ax, filename, flux, y, label, lam=LAM):\n",
    "    label_str = \"{}\\n$\\hat{{z}} = {:.2f}$\\n$z = {:.2f}$ (shown)\".format(\n",
    "        filename, y, label)\n",
    "    \n",
    "    lam_emit = [z2lam_emit(label, l) for l in lam]\n",
    "    ax.plot(lam_emit, flux, label=label_str)\n",
    "    ax.legend()\n",
    "    ax.set_xlabel(\"Rest Frame Wavelength [Å]\")\n",
    "    ax.set_ylabel(\"Flux [10$^{-17}$ erg cm$^{-2}$ s$^{-1}$ Å$^{-1}$]\")\n",
    "    \n",
    "    # plot spectral lines\n",
    "    for line, name in LINES:\n",
    "        ax.annotate(\n",
    "            name,\n",
    "            xy=(line, 0), xytext=(line, -2),\n",
    "            arrowprops=ARROWPROPS,\n",
    "            horizontalalignment='center')"
   ]
  },
  {
   "cell_type": "code",
   "execution_count": null,
   "metadata": {},
   "outputs": [],
   "source": [
    "label_widget = ipywidgets.FloatText(description=\"Redshift:\", step=0.01)\n",
    "eidein = Eidein(identifiers, X, predictions, uncertainty, plot_function, label_widget)\n",
    "display(eidein)"
   ]
  },
  {
   "cell_type": "code",
   "execution_count": null,
   "metadata": {},
   "outputs": [],
   "source": [
    "eidein.labelled"
   ]
  }
 ],
 "metadata": {
  "kernelspec": {
   "display_name": "Python 3 (ipykernel)",
   "language": "python",
   "name": "python3"
  },
  "language_info": {
   "codemirror_mode": {
    "name": "ipython",
    "version": 3
   },
   "file_extension": ".py",
   "mimetype": "text/x-python",
   "name": "python",
   "nbconvert_exporter": "python",
   "pygments_lexer": "ipython3",
   "version": "3.9.5"
  }
 },
 "nbformat": 4,
 "nbformat_minor": 4
}
