{
 "cells": [
  {
   "cell_type": "markdown",
   "metadata": {},
   "source": [
    "# eidein\n",
    "\n",
    "Interactive tool for dimensionality reduction of astronomical data and their visualisation.\n",
    "\n",
    "## TODO List\n",
    "\n",
    "1. implement BNN and prediction uncertanties\n",
    "1. subset (lasso) selection (widgets.SelectMultiple)\n",
    "1. divide features (for dimensionality reduction) and spectra (for visualisation, ploting function)\n",
    "1. scale to Big Data"
   ]
  },
  {
   "cell_type": "code",
   "execution_count": null,
   "metadata": {},
   "outputs": [],
   "source": [
    "%matplotlib widget\n",
    "\n",
    "from astropy.modeling import models, fitting\n",
    "import h5py\n",
    "import matplotlib.pyplot as plt\n",
    "import numpy as np\n",
    "\n",
    "from eidein import Eidein\n",
    "import plot"
   ]
  },
  {
   "cell_type": "markdown",
   "metadata": {},
   "source": [
    "## Data"
   ]
  },
  {
   "cell_type": "code",
   "execution_count": null,
   "metadata": {},
   "outputs": [],
   "source": [
    "SIZE = 2048\n",
    "\n",
    "with h5py.File(\"data/dataset.hdf5\", \"r\") as datafile:\n",
    "    rnd_idx = np.random.randint(datafile[\"id_tr\"].shape[0], size=SIZE)\n",
    "    ids_rnd = datafile[\"id_tr\"][:][rnd_idx]\n",
    "    X_rnd = datafile[\"X_tr\"][:][rnd_idx]\n",
    "    z_rnd = datafile[\"z_tr\"][:][rnd_idx].reshape(-1, 1)\n",
    "ids_rnd.shape, X_rnd.shape, z_rnd.shape"
   ]
  },
  {
   "cell_type": "code",
   "execution_count": null,
   "metadata": {},
   "outputs": [],
   "source": [
    "fig, ax = plt.subplots()\n",
    "plot.spectrum(ax, X_rnd[0], label=\"z = \" + str(z_rnd[0, 0]))\n",
    "plot.redshift(ax, z_rnd[0, 0])\n",
    "ax.legend()"
   ]
  },
  {
   "cell_type": "markdown",
   "metadata": {},
   "source": [
    "## Redshift without Continuum Normalisation"
   ]
  },
  {
   "cell_type": "code",
   "execution_count": null,
   "metadata": {},
   "outputs": [],
   "source": [
    "Eidein(ids_rnd, X_rnd, z_rnd)"
   ]
  },
  {
   "cell_type": "markdown",
   "metadata": {},
   "source": [
    "## Linear Fit to Continuum"
   ]
  },
  {
   "cell_type": "code",
   "execution_count": null,
   "metadata": {},
   "outputs": [],
   "source": [
    "fit = fitting.LinearLSQFitter()\n",
    "line_init = models.Linear1D()\n",
    "fitted_line = fit(line_init, plot.WAVE, X_rnd[0])\n",
    "continuum = fitted_line(plot.WAVE)\n",
    "\n",
    "fig, ax = plt.subplots()\n",
    "plot.spectrum(ax, X_rnd[0], label=\"z = \" + str(z_rnd[0, 0]))\n",
    "plot.redshift(ax, z_rnd[0, 0])\n",
    "plot.spectrum(ax, continuum)\n",
    "ax.legend()\n",
    "\n",
    "fitted_line.slope.value, fitted_line.intercept.value"
   ]
  },
  {
   "cell_type": "code",
   "execution_count": null,
   "metadata": {},
   "outputs": [],
   "source": [
    "fit = fitting.LinearLSQFitter()\n",
    "line_init = models.Linear1D()\n",
    "\n",
    "slopes = np.zeros((SIZE, 1))\n",
    "intercepts = np.zeros((SIZE, 1))\n",
    "for i, x in enumerate(X_rnd):\n",
    "    fitted_line = fit(line_init, plot.WAVE, x)\n",
    "    slopes[i, 0] = fitted_line.slope.value\n",
    "    intercepts[i, 0] = fitted_line.intercept.value\n",
    "\n",
    "Eidein(ids_rnd, X_rnd, slopes)"
   ]
  },
  {
   "cell_type": "markdown",
   "metadata": {},
   "source": [
    "## Redshift with Continuum Normalisation"
   ]
  },
  {
   "cell_type": "code",
   "execution_count": null,
   "metadata": {},
   "outputs": [],
   "source": [
    "fit = fitting.LevMarLSQFitter()\n",
    "line_init = models.Chebyshev1D(3)\n",
    "\n",
    "X_norm = np.zeros_like(X_rnd)\n",
    "for i, x in enumerate(X_rnd):\n",
    "    fitted_line = fit(line_init, plot.WAVE, x)\n",
    "    X_norm[i] = X_rnd[i] - fitted_line(plot.WAVE)\n",
    "\n",
    "fig, ax = plt.subplots()\n",
    "i = np.random.randint(SIZE)\n",
    "plot.spectrum(ax, X_rnd[i], label=\"original\")\n",
    "plot.spectrum(ax, X_norm[i], label=\"normalised\")\n",
    "ax.legend()"
   ]
  },
  {
   "cell_type": "code",
   "execution_count": null,
   "metadata": {},
   "outputs": [],
   "source": [
    "Eidein(ids_rnd, X_norm, z_rnd)"
   ]
  }
 ],
 "metadata": {
  "kernelspec": {
   "display_name": "Python 3",
   "language": "python",
   "name": "python3"
  },
  "language_info": {
   "codemirror_mode": {
    "name": "ipython",
    "version": 3
   },
   "file_extension": ".py",
   "mimetype": "text/x-python",
   "name": "python",
   "nbconvert_exporter": "python",
   "pygments_lexer": "ipython3",
   "version": "3.8.5"
  }
 },
 "nbformat": 4,
 "nbformat_minor": 4
}
