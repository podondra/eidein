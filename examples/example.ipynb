{
 "cells": [
  {
   "cell_type": "markdown",
   "metadata": {
    "tags": []
   },
   "source": [
    "# eidein\n",
    "\n",
    "Interactive tool for dimensionality reduction of astronomical data and their visualisation.\n",
    "\n",
    "## TODO List\n",
    "\n",
    "1. implement BNN and prediction uncertanties\n",
    "1. subset (lasso) selection (widgets.SelectMultiple)\n",
    "1. divide features (for dimensionality reduction) and spectra (for visualisation, ploting function)\n",
    "1. scale to Big Data"
   ]
  },
  {
   "cell_type": "code",
   "execution_count": 1,
   "metadata": {},
   "outputs": [],
   "source": [
    "%matplotlib widget\n",
    "\n",
    "from astropy.modeling import models, fitting\n",
    "import h5py\n",
    "import matplotlib.pyplot as plt\n",
    "import numpy as np\n",
    "\n",
    "from eidein import Eidein\n",
    "import plot"
   ]
  },
  {
   "cell_type": "markdown",
   "metadata": {},
   "source": [
    "## Data"
   ]
  },
  {
   "cell_type": "code",
   "execution_count": 2,
   "metadata": {},
   "outputs": [],
   "source": [
    "SIZE = 2048"
   ]
  },
  {
   "cell_type": "code",
   "execution_count": 3,
   "metadata": {},
   "outputs": [
    {
     "name": "stdout",
     "output_type": "stream",
     "text": [
      "<KeysViewHDF5 ['X', 'entropy', 'entropy_std', 'id', 'mutual_information', 'pipe_corr_10k', 'sn_median_all', 'source_z', 'variation_ratio', 'z', 'z_10k', 'z_pca', 'z_pipe', 'z_pred', 'z_pred_std', 'z_qn', 'z_vi', 'zs_pred']>\n"
     ]
    },
    {
     "data": {
      "text/plain": [
       "(dtype('int32'), dtype('float32'), dtype('float64'), dtype('float32'))"
      ]
     },
     "execution_count": 3,
     "metadata": {},
     "output_type": "execute_result"
    }
   ],
   "source": [
    "# TODO should I take only those with high S/N?\n",
    "with h5py.File(\"data/dr16q_superset.hdf5\", \"r\") as datafile:\n",
    "    print(datafile.keys())\n",
    "    n = datafile[\"id\"].shape[0]\n",
    "    mi = datafile[\"mutual_information\"][:]\n",
    "    idx = np.sort(np.argsort(mi)[-2048:])\n",
    "    mi = mi[idx]\n",
    "    ids = datafile[\"id\"][idx]\n",
    "    X = datafile[\"X\"][idx]\n",
    "    z_pred = datafile[\"z_pred\"][idx]\n",
    "ids.dtype, X.dtype, mi.dtype, z_pred.dtype"
   ]
  },
  {
   "cell_type": "code",
   "execution_count": 4,
   "metadata": {},
   "outputs": [
    {
     "data": {
      "application/vnd.jupyter.widget-view+json": {
       "model_id": "a57ee7bbbabe47f6ac57a4dbab26959d",
       "version_major": 2,
       "version_minor": 0
      },
      "text/plain": [
       "Canvas(toolbar=Toolbar(toolitems=[('Home', 'Reset original view', 'home', 'home'), ('Back', 'Back to previous …"
      ]
     },
     "metadata": {},
     "output_type": "display_data"
    },
    {
     "data": {
      "text/plain": [
       "<matplotlib.legend.Legend at 0x7f0cef314f40>"
      ]
     },
     "execution_count": 4,
     "metadata": {},
     "output_type": "execute_result"
    }
   ],
   "source": [
    "rnd_i = np.random.randint(SIZE)\n",
    "fig, ax = plt.subplots()\n",
    "plot.spectrum(ax, X[rnd_i], label=\"Z_VI = \" + str(z_pred[rnd_i]))\n",
    "plot.redshift(ax, z_pred[rnd_i])\n",
    "ax.legend()"
   ]
  },
  {
   "cell_type": "code",
   "execution_count": 5,
   "metadata": {},
   "outputs": [
    {
     "data": {
      "application/vnd.jupyter.widget-view+json": {
       "model_id": "c1790c7ce40f4e26a087b717170f802a",
       "version_major": 2,
       "version_minor": 0
      },
      "text/plain": [
       "Eidein(children=(Tab(children=(interactive(children=(Checkbox(value=False, description='whiten'), Dropdown(des…"
      ]
     },
     "metadata": {},
     "output_type": "display_data"
    }
   ],
   "source": [
    "Eidein(ids, X, mi)"
   ]
  }
 ],
 "metadata": {
  "kernelspec": {
   "display_name": "Python 3 (ipykernel)",
   "language": "python",
   "name": "python3"
  },
  "language_info": {
   "codemirror_mode": {
    "name": "ipython",
    "version": 3
   },
   "file_extension": ".py",
   "mimetype": "text/x-python",
   "name": "python",
   "nbconvert_exporter": "python",
   "pygments_lexer": "ipython3",
   "version": "3.9.5"
  }
 },
 "nbformat": 4,
 "nbformat_minor": 4
}
