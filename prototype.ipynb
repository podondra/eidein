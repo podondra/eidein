{
 "cells": [
  {
   "cell_type": "code",
   "execution_count": 1,
   "metadata": {},
   "outputs": [
    {
     "data": {
      "text/plain": [
       "'3.3.2'"
      ]
     },
     "execution_count": 1,
     "metadata": {},
     "output_type": "execute_result"
    }
   ],
   "source": [
    "%matplotlib widget\n",
    "\n",
    "import h5py\n",
    "import ipywidgets as widgets\n",
    "import matplotlib\n",
    "import matplotlib.pyplot as plt\n",
    "import numpy as np\n",
    "from sklearn import decomposition\n",
    "from sklearn import manifold\n",
    "import umap\n",
    "\n",
    "import plot\n",
    "\n",
    "matplotlib.__version__"
   ]
  },
  {
   "cell_type": "code",
   "execution_count": 2,
   "metadata": {},
   "outputs": [
    {
     "data": {
      "text/plain": [
       "((2048,), (2048, 512), (2048, 1))"
      ]
     },
     "execution_count": 2,
     "metadata": {},
     "output_type": "execute_result"
    }
   ],
   "source": [
    "SIZE = 2048\n",
    "\n",
    "with h5py.File(\"data/data.hdf5\", \"r\") as datafile:\n",
    "    ids = datafile[\"id_tr\"][:]\n",
    "    rnd_idx = np.random.randint(ids.shape[0], size=SIZE)\n",
    "    ids = ids[rnd_idx]\n",
    "    X = datafile[\"X_tr\"][:][rnd_idx]\n",
    "    z = datafile[\"z_tr\"][:][rnd_idx].reshape(-1, 1)\n",
    "ids.shape, X.shape, z.shape"
   ]
  },
  {
   "cell_type": "code",
   "execution_count": 3,
   "metadata": {},
   "outputs": [
    {
     "data": {
      "application/vnd.jupyter.widget-view+json": {
       "model_id": "a1a01dee5f5c4a3ab3d0f0bb0115a4f8",
       "version_major": 2,
       "version_minor": 0
      },
      "text/plain": [
       "Canvas(toolbar=Toolbar(toolitems=[('Home', 'Reset original view', 'home', 'home'), ('Back', 'Back to previous …"
      ]
     },
     "metadata": {},
     "output_type": "display_data"
    },
    {
     "data": {
      "text/plain": [
       "<matplotlib.legend.Legend at 0x7f41f079dfa0>"
      ]
     },
     "execution_count": 3,
     "metadata": {},
     "output_type": "execute_result"
    }
   ],
   "source": [
    "fig, ax = plt.subplots()\n",
    "plot.spectrum(ax, X[0], label=\"z = \" + str(z[0, 0]))\n",
    "plot.redshift(ax, z[0, 0])\n",
    "ax.legend()"
   ]
  },
  {
   "cell_type": "code",
   "execution_count": 4,
   "metadata": {},
   "outputs": [
    {
     "data": {
      "application/vnd.jupyter.widget-view+json": {
       "model_id": "60c362f77e6e41b58384f284ec1854cd",
       "version_major": 2,
       "version_minor": 0
      },
      "text/plain": [
       "interactive(children=(Dropdown(description='projection', options=('PCA', 't-SNE', 'UMAP'), value='PCA'), Butto…"
      ]
     },
     "metadata": {},
     "output_type": "display_data"
    },
    {
     "data": {
      "application/vnd.jupyter.widget-view+json": {
       "model_id": "04a2b389de304a42bf340cd0427892c2",
       "version_major": 2,
       "version_minor": 0
      },
      "text/plain": [
       "Output()"
      ]
     },
     "metadata": {},
     "output_type": "display_data"
    }
   ],
   "source": [
    "output = widgets.Output()\n",
    "\n",
    "with output:\n",
    "    fig1, ax1 = plt.subplots(constrained_layout=True)\n",
    "    fig2, ax2 = plt.subplots(constrained_layout=True)\n",
    "\n",
    "def project(projection):\n",
    "    if projection == \"PCA\":\n",
    "        # TODO standardization?\n",
    "        pca = decomposition.PCA(n_components=2)\n",
    "        embedding = pca.fit_transform(X)\n",
    "    elif projection == \"t-SNE\":\n",
    "        tsne = manifold.TSNE(n_components=2, verbose=2)\n",
    "        embedding = tsne.fit_transform(X)\n",
    "    elif projection == \"UMAP\":\n",
    "        reducer = umap.UMAP(verbose=True)\n",
    "        embedding = reducer.fit_transform(X)\n",
    "\n",
    "    ax1.clear()\n",
    "    collection = ax1.scatter(embedding[:, 0], embedding[:, 1], c=z, picker=True)\n",
    "    fig1.colorbar(collection, ax=ax1)\n",
    "    \n",
    "widgets.interact_manual(project, projection=widgets.Dropdown(options=[\"PCA\", \"t-SNE\", \"UMAP\"]))\n",
    "\n",
    "def onpick(event):\n",
    "    ax2.clear()\n",
    "    plot.spectrum(ax2, X[event.ind[0]])\n",
    "    ax2.grid(True)\n",
    "\n",
    "fig1.canvas.mpl_connect(\"pick_event\", onpick)\n",
    "\n",
    "output"
   ]
  }
 ],
 "metadata": {
  "kernelspec": {
   "display_name": "Python 3",
   "language": "python",
   "name": "python3"
  },
  "language_info": {
   "codemirror_mode": {
    "name": "ipython",
    "version": 3
   },
   "file_extension": ".py",
   "mimetype": "text/x-python",
   "name": "python",
   "nbconvert_exporter": "python",
   "pygments_lexer": "ipython3",
   "version": "3.8.2"
  }
 },
 "nbformat": 4,
 "nbformat_minor": 4
}
