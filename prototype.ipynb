{
 "cells": [
  {
   "cell_type": "markdown",
   "metadata": {},
   "source": [
    "# TODO List\n",
    "\n",
    "1. combine into SpectraViz class\n",
    "1. continuum normalization\n",
    "1. implement BNN and label uncertanties\n",
    "1. subset (lasso) select (widgets.SelectMultiple)\n",
    "1. layout\n",
    "1. create Python package\n",
    "1. scale to Big Data"
   ]
  },
  {
   "cell_type": "code",
   "execution_count": 1,
   "metadata": {},
   "outputs": [
    {
     "data": {
      "text/plain": [
       "'3.3.2'"
      ]
     },
     "execution_count": 1,
     "metadata": {},
     "output_type": "execute_result"
    }
   ],
   "source": [
    "%matplotlib widget\n",
    "\n",
    "import h5py\n",
    "import ipywidgets as widgets\n",
    "import matplotlib\n",
    "import matplotlib.pyplot as plt\n",
    "import numpy as np\n",
    "from sklearn import decomposition\n",
    "from sklearn import manifold\n",
    "import umap\n",
    "\n",
    "import plot\n",
    "\n",
    "matplotlib.__version__"
   ]
  },
  {
   "cell_type": "code",
   "execution_count": 2,
   "metadata": {},
   "outputs": [
    {
     "data": {
      "text/plain": [
       "((2048,), (2048, 512), (2048, 1))"
      ]
     },
     "execution_count": 2,
     "metadata": {},
     "output_type": "execute_result"
    }
   ],
   "source": [
    "SIZE = 2048\n",
    "\n",
    "with h5py.File(\"data/dataset.hdf5\", \"r\") as datafile:\n",
    "    ids = datafile[\"id_tr\"][:]\n",
    "    rnd_idx = np.random.randint(ids.shape[0], size=SIZE)\n",
    "    ids = ids[rnd_idx]\n",
    "    X = datafile[\"X_tr\"][:][rnd_idx]\n",
    "    z = datafile[\"z_tr\"][:][rnd_idx].reshape(-1, 1)\n",
    "ids.shape, X.shape, z.shape"
   ]
  },
  {
   "cell_type": "code",
   "execution_count": 3,
   "metadata": {},
   "outputs": [
    {
     "data": {
      "application/vnd.jupyter.widget-view+json": {
       "model_id": "adb92550440d4d6699e8221c2659f3f0",
       "version_major": 2,
       "version_minor": 0
      },
      "text/plain": [
       "Canvas(toolbar=Toolbar(toolitems=[('Home', 'Reset original view', 'home', 'home'), ('Back', 'Back to previous …"
      ]
     },
     "metadata": {},
     "output_type": "display_data"
    },
    {
     "data": {
      "text/plain": [
       "<matplotlib.legend.Legend at 0x7fe6660eee50>"
      ]
     },
     "execution_count": 3,
     "metadata": {},
     "output_type": "execute_result"
    }
   ],
   "source": [
    "fig, ax = plt.subplots()\n",
    "plot.spectrum(ax, X[0], label=\"z = \" + str(z[0, 0]))\n",
    "plot.redshift(ax, z[0, 0])\n",
    "ax.legend()"
   ]
  },
  {
   "cell_type": "code",
   "execution_count": 4,
   "metadata": {},
   "outputs": [
    {
     "name": "stderr",
     "output_type": "stream",
     "text": [
      "/home/podondra/astro/spectraviz/venv/lib/python3.8/site-packages/traitlets/traitlets.py:586: FutureWarning: elementwise == comparison failed and returning scalar instead; this will raise an error or perform elementwise comparison in the future.\n",
      "  silent = bool(old_value == new_value)\n"
     ]
    },
    {
     "data": {
      "application/vnd.jupyter.widget-view+json": {
       "model_id": "99f5d08af4be442785c7711e9468fcd4",
       "version_major": 2,
       "version_minor": 0
      },
      "text/plain": [
       "SelectMultiple(options=((8848, 57875, 125), (3793, 55214, 801), (4778, 55706, 848), (7340, 56726, 125), (7339,…"
      ]
     },
     "metadata": {},
     "output_type": "display_data"
    }
   ],
   "source": [
    "w = widgets.SelectMultiple(\n",
    "    options=ids[:16],\n",
    "    rows=10\n",
    ")\n",
    "w"
   ]
  },
  {
   "cell_type": "code",
   "execution_count": 5,
   "metadata": {},
   "outputs": [],
   "source": [
    "w.options = ids[16:24]"
   ]
  },
  {
   "cell_type": "code",
   "execution_count": 6,
   "metadata": {},
   "outputs": [
    {
     "data": {
      "text/plain": [
       "()"
      ]
     },
     "execution_count": 6,
     "metadata": {},
     "output_type": "execute_result"
    }
   ],
   "source": [
    "w.value"
   ]
  },
  {
   "cell_type": "code",
   "execution_count": 7,
   "metadata": {},
   "outputs": [
    {
     "data": {
      "application/vnd.jupyter.widget-view+json": {
       "model_id": "3064e9590a1b4768aada0c506ded7cc5",
       "version_major": 2,
       "version_minor": 0
      },
      "text/plain": [
       "HBox(children=(Tab(children=(interactive(children=(Checkbox(value=False, description='whiten'), Dropdown(descr…"
      ]
     },
     "metadata": {},
     "output_type": "display_data"
    }
   ],
   "source": [
    "def run_pca(whiten=False, svd_solver=\"auto\"):\n",
    "    reducer = decomposition.PCA(n_components=2, whiten=whiten, svd_solver=svd_solver)\n",
    "    embedding = reduce_dim(reducer)\n",
    "    plot_projection(embedding)\n",
    "\n",
    "pca_widget = widgets.interactive(\n",
    "    run_pca, {\"manual\": True},\n",
    "    svd_solver=[\"auto\", \"full\", \"arpack\", \"randomized\"])\n",
    "\n",
    "def run_tsne(\n",
    "        perplexity=30, early_exaggeration=12.0, learning_rate=200.0,\n",
    "        n_iter=1000, init=\"random\", method=\"barnes_hut\", n_jobs=-1):\n",
    "    reducer = manifold.TSNE(\n",
    "        n_components=2, perplexity=perplexity,\n",
    "        early_exaggeration=early_exaggeration, learning_rate=learning_rate,\n",
    "        n_iter=n_iter, init=init, verbose=2, method=method, n_jobs=n_jobs)\n",
    "    embedding = reduce_dim(reducer)\n",
    "    plot_projection(embedding)\n",
    "\n",
    "tsne_widget = widgets.interactive(\n",
    "    run_tsne, {\"manual\": True},\n",
    "    perplexity=(5, 50, 1),\n",
    "    early_exaggeration=widgets.FloatText(value=12.0, step=0.1),\n",
    "    learning_rate=widgets.FloatText(value=200.0, step=0.1),\n",
    "    n_iter=widgets.IntText(1000),\n",
    "    init=[\"random\", \"pca\"],\n",
    "    method=[\"barnes_hut\", \"exact\"],\n",
    "    n_jobs=widgets.IntText(value=-1))\n",
    "\n",
    "def run_umap(\n",
    "        n_neighbors=15, metric=\"euclidean\", n_epochs=None, learning_rate=1.0,\n",
    "        init=\"spectral\", min_dist=0.1, low_memory=False):\n",
    "    reducer = umap.UMAP(\n",
    "        n_neighbors=n_neighbors, metric=metric, n_epochs=n_epochs,\n",
    "        learning_rate=learning_rate, init=init, min_dist=min_dist,\n",
    "        low_memory=low_memory, verbose=True)\n",
    "    embedding = reduce_dim(reducer)\n",
    "    plot_projection(embedding)\n",
    "\n",
    "umap_widget = widgets.interactive(\n",
    "    run_umap, {\"manual\": True},\n",
    "    n_neighbors=(2, 100, 1),\n",
    "    metric=[\"euclidean\", \"manhattan\", \"chebyshev\", \"minkowski\"],\n",
    "    n_epochs=widgets.fixed(None),\n",
    "    learning_rate=widgets.FloatText(value=1.0, min=0, step=0.1),\n",
    "    init=[\"spectral\", \"random\"],\n",
    "    min_dist=widgets.FloatText(value=0.1, min=0, step=0.1))\n",
    "\n",
    "reducer_out = widgets.Output(layout={'border': '1px solid black'})\n",
    "\n",
    "@reducer_out.capture(clear_output=True)\n",
    "def reduce_dim(reducer):\n",
    "    return reducer.fit_transform(X)\n",
    "\n",
    "def plot_projection(embedding):\n",
    "    proj_ax.clear()\n",
    "    collection = proj_ax.scatter(embedding[:, 0], embedding[:, 1], c=z, picker=True)\n",
    "    proj_fig.colorbar(collection, ax=proj_ax)\n",
    "\n",
    "titles = ['PCA', 't-SNE', 'UMAP']\n",
    "childrens = [pca_widget, tsne_widget, umap_widget]\n",
    "tabs = widgets.Tab()\n",
    "tabs.children = childrens\n",
    "for i, title in enumerate(titles):\n",
    "    tabs.set_title(i, title)\n",
    "\n",
    "proj_out = widgets.Output()\n",
    "with proj_out:\n",
    "    proj_fig, proj_ax = plt.subplots(constrained_layout=True)\n",
    "\n",
    "def onpick(event):\n",
    "    spec_ax.clear()\n",
    "    plot.spectrum(spec_ax, X[event.ind[0]])\n",
    "    spec_ax.grid(True)\n",
    "\n",
    "proj_fig.canvas.mpl_connect(\"pick_event\", onpick)\n",
    "\n",
    "spec_out = widgets.Output()\n",
    "with spec_out:\n",
    "    spec_fig, spec_ax = plt.subplots(constrained_layout=True)\n",
    "\n",
    "layout = widgets.Layout(align_items=\"stretch\", flex_flow=\"row wrap\")\n",
    "widgets.HBox(children=[tabs, reducer_out, proj_out, spec_out], layout=layout)"
   ]
  }
 ],
 "metadata": {
  "kernelspec": {
   "display_name": "Python 3",
   "language": "python",
   "name": "python3"
  },
  "language_info": {
   "codemirror_mode": {
    "name": "ipython",
    "version": 3
   },
   "file_extension": ".py",
   "mimetype": "text/x-python",
   "name": "python",
   "nbconvert_exporter": "python",
   "pygments_lexer": "ipython3",
   "version": "3.8.5"
  }
 },
 "nbformat": 4,
 "nbformat_minor": 4
}
