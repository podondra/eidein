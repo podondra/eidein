{
 "cells": [
  {
   "cell_type": "markdown",
   "metadata": {},
   "source": [
    "# Data Preparation of DR16Q Superset Catalogue\n",
    "\n",
    "> The superset contains 1,440,615 observations of\n",
    "> quasars, stars, and galaxies that were all targeted as\n",
    "> quasars (or appeared in previous quasar catalogs)."
   ]
  },
  {
   "cell_type": "code",
   "execution_count": 1,
   "metadata": {},
   "outputs": [],
   "source": [
    "from astropy.io import fits\n",
    "import h5py\n",
    "import matplotlib.pyplot as plt\n",
    "import numpy as np\n",
    "import pandas as pd\n",
    "import seaborn as sns\n",
    "from sklearn.preprocessing import minmax_scale\n",
    "from spectres import spectres"
   ]
  },
  {
   "cell_type": "code",
   "execution_count": 2,
   "metadata": {},
   "outputs": [
    {
     "name": "stdout",
     "output_type": "stream",
     "text": [
      "<class 'pandas.core.frame.DataFrame'>\n",
      "RangeIndex: 1440615 entries, 0 to 1440614\n",
      "Data columns (total 15 columns):\n",
      " #   Column        Non-Null Count    Dtype  \n",
      "---  ------        --------------    -----  \n",
      " 0   PLATE         1440615 non-null  int32  \n",
      " 1   MJD           1440615 non-null  int32  \n",
      " 2   FIBERID       1440615 non-null  int16  \n",
      " 3   Z_QN          1440615 non-null  float64\n",
      " 4   Z_10K         1440615 non-null  float64\n",
      " 5   Z_CONF_10K    1440615 non-null  int16  \n",
      " 6   Z_VI          1440615 non-null  float64\n",
      " 7   Z_CONF        1440615 non-null  int16  \n",
      " 8   Z             1440615 non-null  float64\n",
      " 9   SOURCE_Z      1440615 non-null  object \n",
      " 10  Z_PIPE        1440615 non-null  float64\n",
      " 11  ZWARNING      1440615 non-null  int32  \n",
      " 12  Z_PCA         1440615 non-null  float64\n",
      " 13  ZWARN_PCA     1440615 non-null  int64  \n",
      " 14  CLASS_PERSON  1440615 non-null  int16  \n",
      "dtypes: float64(6), int16(4), int32(3), int64(1), object(1)\n",
      "memory usage: 115.4+ MB\n"
     ]
    }
   ],
   "source": [
    "with fits.open(\"data/DR16Q_Superset_v3.fits\") as hdul:\n",
    "    data = hdul[1].data.byteswap().newbyteorder().copy()\n",
    "    dataset = pd.DataFrame()\n",
    "    for col in [\"PLATE\", \"MJD\", \"FIBERID\", \"Z_QN\", \"Z_10K\", \"Z_CONF_10K\", \"Z_VI\", \"Z_CONF\", \"Z\", \"SOURCE_Z\", \"Z_PIPE\", \"ZWARNING\", \"Z_PCA\", \"ZWARN_PCA\", \"CLASS_PERSON\", \"Z_CONF\"]:\n",
    "        dataset[col] = data[col]\n",
    "dataset.info()"
   ]
  },
  {
   "cell_type": "markdown",
   "metadata": {},
   "source": [
    "> For objects that have a redshift in the columns `Z_VI` or `Z_10K` and a confidence (`Z_CONF` or `Z_CONF_10K`) of ≥ 2,\n",
    "> `Z` records the corresponding redshift and `SOURCE_Z` is set to `VI`. Otherwise, if an object has a redshift in the\n",
    "> columns `Z_DR6Q_HW` or `Z_DR7Q_SCH` these values are used (with `Z_DR6Q_HW` overriding `Z_DR7Q_SCH`) and `SOURCE_Z` is\n",
    "> set to `DR6Q_HW` or `DR7QV_SCH`. As the `ZDR7Q_HW` redshifts did not formally appear in the Shen et al. (2011) paper,\n",
    "> these values are not used to populate the `Z` column.\n",
    "> If no other visual inspection redshift is populated then `Z_DR12Q` is used (and `SOURCE_Z` is set to `DR12QV`).\n",
    "> For objects with DR12Q redshifts, only the visual inspection redshifts are recorded; DR12Q pipeline redshifts\n",
    "> are not included. In the absence of any of these visual\n",
    "> inspection redshifts, `Z` is populated with the automated pipeline redshift (and `SOURCE_Z` is set to `PIPE`)."
   ]
  },
  {
   "cell_type": "code",
   "execution_count": 3,
   "metadata": {},
   "outputs": [
    {
     "data": {
      "text/plain": [
       "(541608, 1234103, 1)"
      ]
     },
     "execution_count": 3,
     "metadata": {},
     "output_type": "execute_result"
    }
   ],
   "source": [
    "source_idx = dataset[\"SOURCE_Z\"] != \"PIPE\"\n",
    "gt_zero_idx = dataset[\"Z\"] > 0\n",
    "eq_zero_idx = dataset[\"Z\"] == 0\n",
    "source_idx.sum(), gt_zero_idx.sum(), eq_zero_idx.sum()"
   ]
  },
  {
   "cell_type": "code",
   "execution_count": 4,
   "metadata": {},
   "outputs": [
    {
     "data": {
      "text/html": [
       "<div>\n",
       "<style scoped>\n",
       "    .dataframe tbody tr th:only-of-type {\n",
       "        vertical-align: middle;\n",
       "    }\n",
       "\n",
       "    .dataframe tbody tr th {\n",
       "        vertical-align: top;\n",
       "    }\n",
       "\n",
       "    .dataframe thead th {\n",
       "        text-align: right;\n",
       "    }\n",
       "</style>\n",
       "<table border=\"1\" class=\"dataframe\">\n",
       "  <thead>\n",
       "    <tr style=\"text-align: right;\">\n",
       "      <th></th>\n",
       "      <th>PLATE</th>\n",
       "      <th>MJD</th>\n",
       "      <th>FIBERID</th>\n",
       "      <th>Z_QN</th>\n",
       "      <th>Z_10K</th>\n",
       "      <th>Z_CONF_10K</th>\n",
       "      <th>Z_VI</th>\n",
       "      <th>Z_CONF</th>\n",
       "      <th>Z</th>\n",
       "      <th>SOURCE_Z</th>\n",
       "      <th>Z_PIPE</th>\n",
       "      <th>ZWARNING</th>\n",
       "      <th>Z_PCA</th>\n",
       "      <th>ZWARN_PCA</th>\n",
       "      <th>CLASS_PERSON</th>\n",
       "    </tr>\n",
       "  </thead>\n",
       "  <tbody>\n",
       "    <tr>\n",
       "      <th>15</th>\n",
       "      <td>6173</td>\n",
       "      <td>56238</td>\n",
       "      <td>528</td>\n",
       "      <td>2.311340</td>\n",
       "      <td>-1.0</td>\n",
       "      <td>-1</td>\n",
       "      <td>2.309</td>\n",
       "      <td>3</td>\n",
       "      <td>2.309</td>\n",
       "      <td>VI</td>\n",
       "      <td>2.308180</td>\n",
       "      <td>0</td>\n",
       "      <td>2.309822</td>\n",
       "      <td>0</td>\n",
       "      <td>3</td>\n",
       "    </tr>\n",
       "    <tr>\n",
       "      <th>16</th>\n",
       "      <td>7596</td>\n",
       "      <td>56945</td>\n",
       "      <td>162</td>\n",
       "      <td>2.309355</td>\n",
       "      <td>-1.0</td>\n",
       "      <td>-1</td>\n",
       "      <td>2.309</td>\n",
       "      <td>3</td>\n",
       "      <td>2.309</td>\n",
       "      <td>VI</td>\n",
       "      <td>2.307397</td>\n",
       "      <td>0</td>\n",
       "      <td>2.304973</td>\n",
       "      <td>0</td>\n",
       "      <td>3</td>\n",
       "    </tr>\n",
       "    <tr>\n",
       "      <th>19</th>\n",
       "      <td>4216</td>\n",
       "      <td>55477</td>\n",
       "      <td>310</td>\n",
       "      <td>-1.000000</td>\n",
       "      <td>-1.0</td>\n",
       "      <td>-1</td>\n",
       "      <td>0.250</td>\n",
       "      <td>3</td>\n",
       "      <td>0.250</td>\n",
       "      <td>VI</td>\n",
       "      <td>0.249938</td>\n",
       "      <td>0</td>\n",
       "      <td>0.249966</td>\n",
       "      <td>0</td>\n",
       "      <td>3</td>\n",
       "    </tr>\n",
       "    <tr>\n",
       "      <th>27</th>\n",
       "      <td>6172</td>\n",
       "      <td>56269</td>\n",
       "      <td>366</td>\n",
       "      <td>2.498696</td>\n",
       "      <td>-1.0</td>\n",
       "      <td>-1</td>\n",
       "      <td>2.497</td>\n",
       "      <td>3</td>\n",
       "      <td>2.497</td>\n",
       "      <td>VI</td>\n",
       "      <td>2.499653</td>\n",
       "      <td>0</td>\n",
       "      <td>2.495232</td>\n",
       "      <td>0</td>\n",
       "      <td>3</td>\n",
       "    </tr>\n",
       "    <tr>\n",
       "      <th>28</th>\n",
       "      <td>6177</td>\n",
       "      <td>56268</td>\n",
       "      <td>595</td>\n",
       "      <td>2.511271</td>\n",
       "      <td>-1.0</td>\n",
       "      <td>-1</td>\n",
       "      <td>2.497</td>\n",
       "      <td>3</td>\n",
       "      <td>2.497</td>\n",
       "      <td>VI</td>\n",
       "      <td>2.497960</td>\n",
       "      <td>0</td>\n",
       "      <td>2.495101</td>\n",
       "      <td>0</td>\n",
       "      <td>3</td>\n",
       "    </tr>\n",
       "  </tbody>\n",
       "</table>\n",
       "</div>"
      ],
      "text/plain": [
       "    PLATE    MJD  FIBERID      Z_QN  Z_10K  Z_CONF_10K   Z_VI  Z_CONF      Z  \\\n",
       "15   6173  56238      528  2.311340   -1.0          -1  2.309       3  2.309   \n",
       "16   7596  56945      162  2.309355   -1.0          -1  2.309       3  2.309   \n",
       "19   4216  55477      310 -1.000000   -1.0          -1  0.250       3  0.250   \n",
       "27   6172  56269      366  2.498696   -1.0          -1  2.497       3  2.497   \n",
       "28   6177  56268      595  2.511271   -1.0          -1  2.497       3  2.497   \n",
       "\n",
       "   SOURCE_Z    Z_PIPE  ZWARNING     Z_PCA  ZWARN_PCA  CLASS_PERSON  \n",
       "15       VI  2.308180         0  2.309822          0             3  \n",
       "16       VI  2.307397         0  2.304973          0             3  \n",
       "19       VI  0.249938         0  0.249966          0             3  \n",
       "27       VI  2.499653         0  2.495232          0             3  \n",
       "28       VI  2.497960         0  2.495101          0             3  "
      ]
     },
     "execution_count": 4,
     "metadata": {},
     "output_type": "execute_result"
    }
   ],
   "source": [
    "dataset = dataset[source_idx & (gt_zero_idx | eq_zero_idx)]\n",
    "dataset.head()"
   ]
  },
  {
   "cell_type": "code",
   "execution_count": 5,
   "metadata": {},
   "outputs": [
    {
     "data": {
      "text/plain": [
       "3     394254\n",
       "0      76513\n",
       "30     39501\n",
       "4      30668\n",
       "1        255\n",
       "50         1\n",
       "Name: CLASS_PERSON, dtype: int64"
      ]
     },
     "execution_count": 5,
     "metadata": {},
     "output_type": "execute_result"
    }
   ],
   "source": [
    "dataset[\"CLASS_PERSON\"].value_counts()"
   ]
  },
  {
   "cell_type": "code",
   "execution_count": 6,
   "metadata": {},
   "outputs": [
    {
     "data": {
      "image/png": "[encoded data removed]",
      "text/plain": [
       "<Figure size 432x288 with 1 Axes>"
      ]
     },
     "metadata": {
      "needs_background": "light"
     },
     "output_type": "display_data"
    }
   ],
   "source": [
    "fig, ax = plt.subplots()\n",
    "ax.set_xlabel(\"z\")\n",
    "ax.set_ylabel(\"Density\")\n",
    "sns.kdeplot(data=dataset, x=\"Z\", ax=ax);"
   ]
  },
  {
   "cell_type": "markdown",
   "metadata": {},
   "source": [
    "## Wavelength Range"
   ]
  },
  {
   "cell_type": "code",
   "execution_count": 7,
   "metadata": {},
   "outputs": [
    {
     "data": {
      "text/html": [
       "<div>\n",
       "<style scoped>\n",
       "    .dataframe tbody tr th:only-of-type {\n",
       "        vertical-align: middle;\n",
       "    }\n",
       "\n",
       "    .dataframe tbody tr th {\n",
       "        vertical-align: top;\n",
       "    }\n",
       "\n",
       "    .dataframe thead th {\n",
       "        text-align: right;\n",
       "    }\n",
       "</style>\n",
       "<table border=\"1\" class=\"dataframe\">\n",
       "  <thead>\n",
       "    <tr style=\"text-align: right;\">\n",
       "      <th></th>\n",
       "      <th>PLATE</th>\n",
       "      <th>MJD</th>\n",
       "      <th>FIBERID</th>\n",
       "      <th>WAVEMIN</th>\n",
       "      <th>WAVEMAX</th>\n",
       "    </tr>\n",
       "  </thead>\n",
       "  <tbody>\n",
       "    <tr>\n",
       "      <th>0</th>\n",
       "      <td>266</td>\n",
       "      <td>51602</td>\n",
       "      <td>1</td>\n",
       "      <td>3806.273682</td>\n",
       "      <td>9202.376953</td>\n",
       "    </tr>\n",
       "    <tr>\n",
       "      <th>1</th>\n",
       "      <td>266</td>\n",
       "      <td>51602</td>\n",
       "      <td>2</td>\n",
       "      <td>3806.273682</td>\n",
       "      <td>9202.376953</td>\n",
       "    </tr>\n",
       "    <tr>\n",
       "      <th>2</th>\n",
       "      <td>266</td>\n",
       "      <td>51602</td>\n",
       "      <td>3</td>\n",
       "      <td>3806.273682</td>\n",
       "      <td>9202.376953</td>\n",
       "    </tr>\n",
       "    <tr>\n",
       "      <th>3</th>\n",
       "      <td>266</td>\n",
       "      <td>51602</td>\n",
       "      <td>4</td>\n",
       "      <td>3806.273682</td>\n",
       "      <td>9202.376953</td>\n",
       "    </tr>\n",
       "    <tr>\n",
       "      <th>4</th>\n",
       "      <td>266</td>\n",
       "      <td>51602</td>\n",
       "      <td>5</td>\n",
       "      <td>3805.397217</td>\n",
       "      <td>9202.376953</td>\n",
       "    </tr>\n",
       "  </tbody>\n",
       "</table>\n",
       "</div>"
      ],
      "text/plain": [
       "   PLATE    MJD  FIBERID      WAVEMIN      WAVEMAX\n",
       "0    266  51602        1  3806.273682  9202.376953\n",
       "1    266  51602        2  3806.273682  9202.376953\n",
       "2    266  51602        3  3806.273682  9202.376953\n",
       "3    266  51602        4  3806.273682  9202.376953\n",
       "4    266  51602        5  3805.397217  9202.376953"
      ]
     },
     "execution_count": 7,
     "metadata": {},
     "output_type": "execute_result"
    }
   ],
   "source": [
    "with fits.open(\"data/specObj-dr16.fits\") as hdul:\n",
    "    data = hdul[1].data.byteswap().newbyteorder().copy()\n",
    "    specobj = pd.DataFrame()\n",
    "    for col in [\"PLATE\", \"MJD\", \"FIBERID\", \"WAVEMIN\", \"WAVEMAX\"]:\n",
    "        specobj[col] = data[col]\n",
    "specobj.head()"
   ]
  },
  {
   "cell_type": "code",
   "execution_count": 8,
   "metadata": {},
   "outputs": [
    {
     "data": {
      "text/html": [
       "<div>\n",
       "<style scoped>\n",
       "    .dataframe tbody tr th:only-of-type {\n",
       "        vertical-align: middle;\n",
       "    }\n",
       "\n",
       "    .dataframe tbody tr th {\n",
       "        vertical-align: top;\n",
       "    }\n",
       "\n",
       "    .dataframe thead th {\n",
       "        text-align: right;\n",
       "    }\n",
       "</style>\n",
       "<table border=\"1\" class=\"dataframe\">\n",
       "  <thead>\n",
       "    <tr style=\"text-align: right;\">\n",
       "      <th></th>\n",
       "      <th>PLATE</th>\n",
       "      <th>MJD</th>\n",
       "      <th>FIBERID</th>\n",
       "      <th>Z_QN</th>\n",
       "      <th>Z_10K</th>\n",
       "      <th>Z_CONF_10K</th>\n",
       "      <th>Z_VI</th>\n",
       "      <th>Z_CONF</th>\n",
       "      <th>Z</th>\n",
       "      <th>SOURCE_Z</th>\n",
       "      <th>Z_PIPE</th>\n",
       "      <th>ZWARNING</th>\n",
       "      <th>Z_PCA</th>\n",
       "      <th>ZWARN_PCA</th>\n",
       "      <th>CLASS_PERSON</th>\n",
       "      <th>WAVEMIN</th>\n",
       "      <th>WAVEMAX</th>\n",
       "    </tr>\n",
       "  </thead>\n",
       "  <tbody>\n",
       "    <tr>\n",
       "      <th>0</th>\n",
       "      <td>6173</td>\n",
       "      <td>56238</td>\n",
       "      <td>528</td>\n",
       "      <td>2.311340</td>\n",
       "      <td>-1.0</td>\n",
       "      <td>-1</td>\n",
       "      <td>2.309</td>\n",
       "      <td>3</td>\n",
       "      <td>2.309</td>\n",
       "      <td>VI</td>\n",
       "      <td>2.308180</td>\n",
       "      <td>0</td>\n",
       "      <td>2.309822</td>\n",
       "      <td>0</td>\n",
       "      <td>3</td>\n",
       "      <td>3603.296387</td>\n",
       "      <td>10360.959961</td>\n",
       "    </tr>\n",
       "    <tr>\n",
       "      <th>1</th>\n",
       "      <td>7596</td>\n",
       "      <td>56945</td>\n",
       "      <td>162</td>\n",
       "      <td>2.309355</td>\n",
       "      <td>-1.0</td>\n",
       "      <td>-1</td>\n",
       "      <td>2.309</td>\n",
       "      <td>3</td>\n",
       "      <td>2.309</td>\n",
       "      <td>VI</td>\n",
       "      <td>2.307397</td>\n",
       "      <td>0</td>\n",
       "      <td>2.304973</td>\n",
       "      <td>0</td>\n",
       "      <td>3</td>\n",
       "      <td>3601.637451</td>\n",
       "      <td>10341.891602</td>\n",
       "    </tr>\n",
       "    <tr>\n",
       "      <th>2</th>\n",
       "      <td>4216</td>\n",
       "      <td>55477</td>\n",
       "      <td>310</td>\n",
       "      <td>-1.000000</td>\n",
       "      <td>-1.0</td>\n",
       "      <td>-1</td>\n",
       "      <td>0.250</td>\n",
       "      <td>3</td>\n",
       "      <td>0.250</td>\n",
       "      <td>VI</td>\n",
       "      <td>0.249938</td>\n",
       "      <td>0</td>\n",
       "      <td>0.249966</td>\n",
       "      <td>0</td>\n",
       "      <td>3</td>\n",
       "      <td>3601.637451</td>\n",
       "      <td>10299.117188</td>\n",
       "    </tr>\n",
       "    <tr>\n",
       "      <th>3</th>\n",
       "      <td>6172</td>\n",
       "      <td>56269</td>\n",
       "      <td>366</td>\n",
       "      <td>2.498696</td>\n",
       "      <td>-1.0</td>\n",
       "      <td>-1</td>\n",
       "      <td>2.497</td>\n",
       "      <td>3</td>\n",
       "      <td>2.497</td>\n",
       "      <td>VI</td>\n",
       "      <td>2.499653</td>\n",
       "      <td>0</td>\n",
       "      <td>2.495232</td>\n",
       "      <td>0</td>\n",
       "      <td>3</td>\n",
       "      <td>3601.637451</td>\n",
       "      <td>10339.510742</td>\n",
       "    </tr>\n",
       "    <tr>\n",
       "      <th>4</th>\n",
       "      <td>6177</td>\n",
       "      <td>56268</td>\n",
       "      <td>595</td>\n",
       "      <td>2.511271</td>\n",
       "      <td>-1.0</td>\n",
       "      <td>-1</td>\n",
       "      <td>2.497</td>\n",
       "      <td>3</td>\n",
       "      <td>2.497</td>\n",
       "      <td>VI</td>\n",
       "      <td>2.497960</td>\n",
       "      <td>0</td>\n",
       "      <td>2.495101</td>\n",
       "      <td>0</td>\n",
       "      <td>3</td>\n",
       "      <td>3605.786377</td>\n",
       "      <td>10363.345703</td>\n",
       "    </tr>\n",
       "  </tbody>\n",
       "</table>\n",
       "</div>"
      ],
      "text/plain": [
       "   PLATE    MJD  FIBERID      Z_QN  Z_10K  Z_CONF_10K   Z_VI  Z_CONF      Z  \\\n",
       "0   6173  56238      528  2.311340   -1.0          -1  2.309       3  2.309   \n",
       "1   7596  56945      162  2.309355   -1.0          -1  2.309       3  2.309   \n",
       "2   4216  55477      310 -1.000000   -1.0          -1  0.250       3  0.250   \n",
       "3   6172  56269      366  2.498696   -1.0          -1  2.497       3  2.497   \n",
       "4   6177  56268      595  2.511271   -1.0          -1  2.497       3  2.497   \n",
       "\n",
       "  SOURCE_Z    Z_PIPE  ZWARNING     Z_PCA  ZWARN_PCA  CLASS_PERSON  \\\n",
       "0       VI  2.308180         0  2.309822          0             3   \n",
       "1       VI  2.307397         0  2.304973          0             3   \n",
       "2       VI  0.249938         0  0.249966          0             3   \n",
       "3       VI  2.499653         0  2.495232          0             3   \n",
       "4       VI  2.497960         0  2.495101          0             3   \n",
       "\n",
       "       WAVEMIN       WAVEMAX  \n",
       "0  3603.296387  10360.959961  \n",
       "1  3601.637451  10341.891602  \n",
       "2  3601.637451  10299.117188  \n",
       "3  3601.637451  10339.510742  \n",
       "4  3605.786377  10363.345703  "
      ]
     },
     "execution_count": 8,
     "metadata": {},
     "output_type": "execute_result"
    }
   ],
   "source": [
    "dataset = pd.merge(dataset, specobj, on=[\"PLATE\", \"MJD\", \"FIBERID\"], how=\"left\")\n",
    "dataset.head()"
   ]
  },
  {
   "cell_type": "code",
   "execution_count": 9,
   "metadata": {},
   "outputs": [
    {
     "data": {
      "text/html": [
       "<div>\n",
       "<style scoped>\n",
       "    .dataframe tbody tr th:only-of-type {\n",
       "        vertical-align: middle;\n",
       "    }\n",
       "\n",
       "    .dataframe tbody tr th {\n",
       "        vertical-align: top;\n",
       "    }\n",
       "\n",
       "    .dataframe thead th {\n",
       "        text-align: right;\n",
       "    }\n",
       "</style>\n",
       "<table border=\"1\" class=\"dataframe\">\n",
       "  <thead>\n",
       "    <tr style=\"text-align: right;\">\n",
       "      <th></th>\n",
       "      <th>WAVEMIN</th>\n",
       "      <th>WAVEMAX</th>\n",
       "    </tr>\n",
       "  </thead>\n",
       "  <tbody>\n",
       "    <tr>\n",
       "      <th>count</th>\n",
       "      <td>541150.000000</td>\n",
       "      <td>541150.000000</td>\n",
       "    </tr>\n",
       "    <tr>\n",
       "      <th>mean</th>\n",
       "      <td>3631.854980</td>\n",
       "      <td>10189.990234</td>\n",
       "    </tr>\n",
       "    <tr>\n",
       "      <th>std</th>\n",
       "      <td>73.104118</td>\n",
       "      <td>399.720306</td>\n",
       "    </tr>\n",
       "    <tr>\n",
       "      <th>min</th>\n",
       "      <td>3601.637451</td>\n",
       "      <td>5727.960449</td>\n",
       "    </tr>\n",
       "    <tr>\n",
       "      <th>25%</th>\n",
       "      <td>3601.637451</td>\n",
       "      <td>10327.614258</td>\n",
       "    </tr>\n",
       "    <tr>\n",
       "      <th>50%</th>\n",
       "      <td>3601.637451</td>\n",
       "      <td>10341.891602</td>\n",
       "    </tr>\n",
       "    <tr>\n",
       "      <th>75%</th>\n",
       "      <td>3608.278076</td>\n",
       "      <td>10360.959961</td>\n",
       "    </tr>\n",
       "    <tr>\n",
       "      <th>max</th>\n",
       "      <td>8986.695312</td>\n",
       "      <td>10396.807617</td>\n",
       "    </tr>\n",
       "  </tbody>\n",
       "</table>\n",
       "</div>"
      ],
      "text/plain": [
       "             WAVEMIN        WAVEMAX\n",
       "count  541150.000000  541150.000000\n",
       "mean     3631.854980   10189.990234\n",
       "std        73.104118     399.720306\n",
       "min      3601.637451    5727.960449\n",
       "25%      3601.637451   10327.614258\n",
       "50%      3601.637451   10341.891602\n",
       "75%      3608.278076   10360.959961\n",
       "max      8986.695312   10396.807617"
      ]
     },
     "execution_count": 9,
     "metadata": {},
     "output_type": "execute_result"
    }
   ],
   "source": [
    "dataset[[\"WAVEMIN\", \"WAVEMAX\"]].describe()"
   ]
  },
  {
   "cell_type": "code",
   "execution_count": 10,
   "metadata": {},
   "outputs": [
    {
     "data": {
      "image/png": "[encoded data removed]",
      "text/plain": [
       "<Figure size 432x288 with 1 Axes>"
      ]
     },
     "metadata": {
      "needs_background": "light"
     },
     "output_type": "display_data"
    }
   ],
   "source": [
    "fig, ax = plt.subplots()\n",
    "ax.set_xlabel(\"Wavelength\")\n",
    "ax.set_ylabel(\"Count\")\n",
    "lammin = dataset[\"WAVEMIN\"].quantile(0.999)\n",
    "lammax = dataset[\"WAVEMAX\"].quantile(0.001)\n",
    "ax.axvline(lammin, color=\"k\", linestyle=\"--\")\n",
    "ax.axvline(lammax, color=\"k\", linestyle=\"-.\")\n",
    "sns.ecdfplot(data=dataset, x=\"WAVEMIN\", stat=\"count\", label=\"Minimal Wavelength\", ax=ax)\n",
    "sns.ecdfplot(data=dataset, x=\"WAVEMAX\", stat=\"count\", label=\"Maximal Wavelength\", complementary=True, ax=ax)\n",
    "ax.legend();"
   ]
  },
  {
   "cell_type": "code",
   "execution_count": 11,
   "metadata": {},
   "outputs": [
    {
     "data": {
      "text/plain": [
       "(3833.54, 9034.414)"
      ]
     },
     "execution_count": 11,
     "metadata": {},
     "output_type": "execute_result"
    }
   ],
   "source": [
    "lammin, lammax"
   ]
  },
  {
   "cell_type": "code",
   "execution_count": 12,
   "metadata": {},
   "outputs": [
    {
     "data": {
      "text/plain": [
       "(541192, 540007)"
      ]
     },
     "execution_count": 12,
     "metadata": {},
     "output_type": "execute_result"
    }
   ],
   "source": [
    "lam_idx = (dataset[\"WAVEMIN\"] < lammin) & (dataset[\"WAVEMAX\"] > lammax)\n",
    "dataset.shape[0], lam_idx.sum()"
   ]
  },
  {
   "cell_type": "code",
   "execution_count": 13,
   "metadata": {},
   "outputs": [
    {
     "data": {
      "text/plain": [
       "(3.5836, 3.9559)"
      ]
     },
     "execution_count": 13,
     "metadata": {},
     "output_type": "execute_result"
    }
   ],
   "source": [
    "loglammin, loglammax = np.log10(lammin), np.log10(lammax)\n",
    "loglammin, loglammax"
   ]
  },
  {
   "cell_type": "code",
   "execution_count": 14,
   "metadata": {},
   "outputs": [
    {
     "data": {
      "text/html": [
       "<div>\n",
       "<style scoped>\n",
       "    .dataframe tbody tr th:only-of-type {\n",
       "        vertical-align: middle;\n",
       "    }\n",
       "\n",
       "    .dataframe tbody tr th {\n",
       "        vertical-align: top;\n",
       "    }\n",
       "\n",
       "    .dataframe thead th {\n",
       "        text-align: right;\n",
       "    }\n",
       "</style>\n",
       "<table border=\"1\" class=\"dataframe\">\n",
       "  <thead>\n",
       "    <tr style=\"text-align: right;\">\n",
       "      <th></th>\n",
       "      <th>PLATE</th>\n",
       "      <th>MJD</th>\n",
       "      <th>FIBERID</th>\n",
       "      <th>Z_QN</th>\n",
       "      <th>Z_10K</th>\n",
       "      <th>Z_CONF_10K</th>\n",
       "      <th>Z_VI</th>\n",
       "      <th>Z_CONF</th>\n",
       "      <th>Z</th>\n",
       "      <th>SOURCE_Z</th>\n",
       "      <th>Z_PIPE</th>\n",
       "      <th>ZWARNING</th>\n",
       "      <th>Z_PCA</th>\n",
       "      <th>ZWARN_PCA</th>\n",
       "      <th>CLASS_PERSON</th>\n",
       "      <th>WAVEMIN</th>\n",
       "      <th>WAVEMAX</th>\n",
       "    </tr>\n",
       "  </thead>\n",
       "  <tbody>\n",
       "    <tr>\n",
       "      <th>0</th>\n",
       "      <td>6173</td>\n",
       "      <td>56238</td>\n",
       "      <td>528</td>\n",
       "      <td>2.311340</td>\n",
       "      <td>-1.0</td>\n",
       "      <td>-1</td>\n",
       "      <td>2.309</td>\n",
       "      <td>3</td>\n",
       "      <td>2.309</td>\n",
       "      <td>VI</td>\n",
       "      <td>2.308180</td>\n",
       "      <td>0</td>\n",
       "      <td>2.309822</td>\n",
       "      <td>0</td>\n",
       "      <td>3</td>\n",
       "      <td>3603.296387</td>\n",
       "      <td>10360.959961</td>\n",
       "    </tr>\n",
       "    <tr>\n",
       "      <th>1</th>\n",
       "      <td>7596</td>\n",
       "      <td>56945</td>\n",
       "      <td>162</td>\n",
       "      <td>2.309355</td>\n",
       "      <td>-1.0</td>\n",
       "      <td>-1</td>\n",
       "      <td>2.309</td>\n",
       "      <td>3</td>\n",
       "      <td>2.309</td>\n",
       "      <td>VI</td>\n",
       "      <td>2.307397</td>\n",
       "      <td>0</td>\n",
       "      <td>2.304973</td>\n",
       "      <td>0</td>\n",
       "      <td>3</td>\n",
       "      <td>3601.637451</td>\n",
       "      <td>10341.891602</td>\n",
       "    </tr>\n",
       "    <tr>\n",
       "      <th>2</th>\n",
       "      <td>4216</td>\n",
       "      <td>55477</td>\n",
       "      <td>310</td>\n",
       "      <td>-1.000000</td>\n",
       "      <td>-1.0</td>\n",
       "      <td>-1</td>\n",
       "      <td>0.250</td>\n",
       "      <td>3</td>\n",
       "      <td>0.250</td>\n",
       "      <td>VI</td>\n",
       "      <td>0.249938</td>\n",
       "      <td>0</td>\n",
       "      <td>0.249966</td>\n",
       "      <td>0</td>\n",
       "      <td>3</td>\n",
       "      <td>3601.637451</td>\n",
       "      <td>10299.117188</td>\n",
       "    </tr>\n",
       "    <tr>\n",
       "      <th>3</th>\n",
       "      <td>6172</td>\n",
       "      <td>56269</td>\n",
       "      <td>366</td>\n",
       "      <td>2.498696</td>\n",
       "      <td>-1.0</td>\n",
       "      <td>-1</td>\n",
       "      <td>2.497</td>\n",
       "      <td>3</td>\n",
       "      <td>2.497</td>\n",
       "      <td>VI</td>\n",
       "      <td>2.499653</td>\n",
       "      <td>0</td>\n",
       "      <td>2.495232</td>\n",
       "      <td>0</td>\n",
       "      <td>3</td>\n",
       "      <td>3601.637451</td>\n",
       "      <td>10339.510742</td>\n",
       "    </tr>\n",
       "    <tr>\n",
       "      <th>4</th>\n",
       "      <td>6177</td>\n",
       "      <td>56268</td>\n",
       "      <td>595</td>\n",
       "      <td>2.511271</td>\n",
       "      <td>-1.0</td>\n",
       "      <td>-1</td>\n",
       "      <td>2.497</td>\n",
       "      <td>3</td>\n",
       "      <td>2.497</td>\n",
       "      <td>VI</td>\n",
       "      <td>2.497960</td>\n",
       "      <td>0</td>\n",
       "      <td>2.495101</td>\n",
       "      <td>0</td>\n",
       "      <td>3</td>\n",
       "      <td>3605.786377</td>\n",
       "      <td>10363.345703</td>\n",
       "    </tr>\n",
       "    <tr>\n",
       "      <th>...</th>\n",
       "      <td>...</td>\n",
       "      <td>...</td>\n",
       "      <td>...</td>\n",
       "      <td>...</td>\n",
       "      <td>...</td>\n",
       "      <td>...</td>\n",
       "      <td>...</td>\n",
       "      <td>...</td>\n",
       "      <td>...</td>\n",
       "      <td>...</td>\n",
       "      <td>...</td>\n",
       "      <td>...</td>\n",
       "      <td>...</td>\n",
       "      <td>...</td>\n",
       "      <td>...</td>\n",
       "      <td>...</td>\n",
       "      <td>...</td>\n",
       "    </tr>\n",
       "    <tr>\n",
       "      <th>541187</th>\n",
       "      <td>7696</td>\n",
       "      <td>57655</td>\n",
       "      <td>120</td>\n",
       "      <td>2.443098</td>\n",
       "      <td>-1.0</td>\n",
       "      <td>-1</td>\n",
       "      <td>2.452</td>\n",
       "      <td>3</td>\n",
       "      <td>2.452</td>\n",
       "      <td>VI</td>\n",
       "      <td>2.450069</td>\n",
       "      <td>0</td>\n",
       "      <td>2.447448</td>\n",
       "      <td>0</td>\n",
       "      <td>3</td>\n",
       "      <td>3601.637451</td>\n",
       "      <td>10337.130859</td>\n",
       "    </tr>\n",
       "    <tr>\n",
       "      <th>541188</th>\n",
       "      <td>6511</td>\n",
       "      <td>56540</td>\n",
       "      <td>912</td>\n",
       "      <td>2.451875</td>\n",
       "      <td>-1.0</td>\n",
       "      <td>-1</td>\n",
       "      <td>2.452</td>\n",
       "      <td>3</td>\n",
       "      <td>2.452</td>\n",
       "      <td>VI</td>\n",
       "      <td>2.450900</td>\n",
       "      <td>0</td>\n",
       "      <td>2.447449</td>\n",
       "      <td>0</td>\n",
       "      <td>3</td>\n",
       "      <td>3611.603027</td>\n",
       "      <td>10356.189453</td>\n",
       "    </tr>\n",
       "    <tr>\n",
       "      <th>541189</th>\n",
       "      <td>7134</td>\n",
       "      <td>56566</td>\n",
       "      <td>408</td>\n",
       "      <td>2.452158</td>\n",
       "      <td>-1.0</td>\n",
       "      <td>-1</td>\n",
       "      <td>2.452</td>\n",
       "      <td>3</td>\n",
       "      <td>2.452</td>\n",
       "      <td>VI</td>\n",
       "      <td>2.449493</td>\n",
       "      <td>0</td>\n",
       "      <td>2.447442</td>\n",
       "      <td>0</td>\n",
       "      <td>3</td>\n",
       "      <td>3601.637451</td>\n",
       "      <td>10341.891602</td>\n",
       "    </tr>\n",
       "    <tr>\n",
       "      <th>541190</th>\n",
       "      <td>7145</td>\n",
       "      <td>56567</td>\n",
       "      <td>240</td>\n",
       "      <td>3.095621</td>\n",
       "      <td>-1.0</td>\n",
       "      <td>-1</td>\n",
       "      <td>3.109</td>\n",
       "      <td>3</td>\n",
       "      <td>3.109</td>\n",
       "      <td>VI</td>\n",
       "      <td>3.114191</td>\n",
       "      <td>0</td>\n",
       "      <td>3.106480</td>\n",
       "      <td>0</td>\n",
       "      <td>3</td>\n",
       "      <td>3601.637451</td>\n",
       "      <td>10337.130859</td>\n",
       "    </tr>\n",
       "    <tr>\n",
       "      <th>541191</th>\n",
       "      <td>7145</td>\n",
       "      <td>56567</td>\n",
       "      <td>262</td>\n",
       "      <td>2.373595</td>\n",
       "      <td>-1.0</td>\n",
       "      <td>-1</td>\n",
       "      <td>2.375</td>\n",
       "      <td>3</td>\n",
       "      <td>2.375</td>\n",
       "      <td>VI</td>\n",
       "      <td>2.397917</td>\n",
       "      <td>0</td>\n",
       "      <td>2.397575</td>\n",
       "      <td>0</td>\n",
       "      <td>30</td>\n",
       "      <td>3601.637451</td>\n",
       "      <td>10337.130859</td>\n",
       "    </tr>\n",
       "  </tbody>\n",
       "</table>\n",
       "<p>540007 rows × 17 columns</p>\n",
       "</div>"
      ],
      "text/plain": [
       "        PLATE    MJD  FIBERID      Z_QN  Z_10K  Z_CONF_10K   Z_VI  Z_CONF  \\\n",
       "0        6173  56238      528  2.311340   -1.0          -1  2.309       3   \n",
       "1        7596  56945      162  2.309355   -1.0          -1  2.309       3   \n",
       "2        4216  55477      310 -1.000000   -1.0          -1  0.250       3   \n",
       "3        6172  56269      366  2.498696   -1.0          -1  2.497       3   \n",
       "4        6177  56268      595  2.511271   -1.0          -1  2.497       3   \n",
       "...       ...    ...      ...       ...    ...         ...    ...     ...   \n",
       "541187   7696  57655      120  2.443098   -1.0          -1  2.452       3   \n",
       "541188   6511  56540      912  2.451875   -1.0          -1  2.452       3   \n",
       "541189   7134  56566      408  2.452158   -1.0          -1  2.452       3   \n",
       "541190   7145  56567      240  3.095621   -1.0          -1  3.109       3   \n",
       "541191   7145  56567      262  2.373595   -1.0          -1  2.375       3   \n",
       "\n",
       "            Z SOURCE_Z    Z_PIPE  ZWARNING     Z_PCA  ZWARN_PCA  CLASS_PERSON  \\\n",
       "0       2.309       VI  2.308180         0  2.309822          0             3   \n",
       "1       2.309       VI  2.307397         0  2.304973          0             3   \n",
       "2       0.250       VI  0.249938         0  0.249966          0             3   \n",
       "3       2.497       VI  2.499653         0  2.495232          0             3   \n",
       "4       2.497       VI  2.497960         0  2.495101          0             3   \n",
       "...       ...      ...       ...       ...       ...        ...           ...   \n",
       "541187  2.452       VI  2.450069         0  2.447448          0             3   \n",
       "541188  2.452       VI  2.450900         0  2.447449          0             3   \n",
       "541189  2.452       VI  2.449493         0  2.447442          0             3   \n",
       "541190  3.109       VI  3.114191         0  3.106480          0             3   \n",
       "541191  2.375       VI  2.397917         0  2.397575          0            30   \n",
       "\n",
       "            WAVEMIN       WAVEMAX  \n",
       "0       3603.296387  10360.959961  \n",
       "1       3601.637451  10341.891602  \n",
       "2       3601.637451  10299.117188  \n",
       "3       3601.637451  10339.510742  \n",
       "4       3605.786377  10363.345703  \n",
       "...             ...           ...  \n",
       "541187  3601.637451  10337.130859  \n",
       "541188  3611.603027  10356.189453  \n",
       "541189  3601.637451  10341.891602  \n",
       "541190  3601.637451  10337.130859  \n",
       "541191  3601.637451  10337.130859  \n",
       "\n",
       "[540007 rows x 17 columns]"
      ]
     },
     "execution_count": 14,
     "metadata": {},
     "output_type": "execute_result"
    }
   ],
   "source": [
    "dataset = dataset[lam_idx]\n",
    "dataset"
   ]
  },
  {
   "cell_type": "code",
   "execution_count": 15,
   "metadata": {},
   "outputs": [],
   "source": [
    "dataset.to_csv(\"data/dataset.csv\", index=False)"
   ]
  },
  {
   "cell_type": "markdown",
   "metadata": {},
   "source": [
    "## Preview"
   ]
  },
  {
   "cell_type": "code",
   "execution_count": 16,
   "metadata": {},
   "outputs": [
    {
     "data": {
      "image/png": "[encoded data removed]",
      "text/plain": [
       "<Figure size 432x288 with 1 Axes>"
      ]
     },
     "metadata": {
      "needs_background": "light"
     },
     "output_type": "display_data"
    }
   ],
   "source": [
    "rnd_idx = np.random.randint(dataset.shape[0])\n",
    "plate, mjd, fiberid = dataset.iloc[rnd_idx][[\"PLATE\", \"MJD\", \"FIBERID\"]]\n",
    "filename = \"spec-{:04d}-{}-{:04d}.fits\".format(plate, mjd, fiberid)\n",
    "filepath = \"data/DR16Q_Superset_v3/{:04d}/\".format(plate) + filename\n",
    "with fits.open(filepath) as hdul:\n",
    "    data = hdul[1].data\n",
    "    loglam = data[\"loglam\"]\n",
    "    flux = data[\"flux\"]\n",
    "\n",
    "fig, ax = plt.subplots()\n",
    "ax.plot(loglam, flux, label=filename)\n",
    "ax.set_xlabel(\"Wavelength\")\n",
    "ax.set_ylabel(\"Flux\")\n",
    "ax.legend();"
   ]
  },
  {
   "cell_type": "code",
   "execution_count": 17,
   "metadata": {},
   "outputs": [
    {
     "data": {
      "text/plain": [
       "540007"
      ]
     },
     "execution_count": 17,
     "metadata": {},
     "output_type": "execute_result"
    }
   ],
   "source": [
    "loglam_idx = (loglammin <= loglam) & (loglam <= loglammax)\n",
    "n_pixels = lam_idx.sum()\n",
    "n_pixels"
   ]
  },
  {
   "cell_type": "code",
   "execution_count": 18,
   "metadata": {},
   "outputs": [
    {
     "data": {
      "image/png": "[encoded data removed]",
      "text/plain": [
       "<Figure size 432x288 with 1 Axes>"
      ]
     },
     "metadata": {
      "needs_background": "light"
     },
     "output_type": "display_data"
    }
   ],
   "source": [
    "fig, ax = plt.subplots()\n",
    "ax.plot(loglam[loglam_idx], flux[loglam_idx], label=filename)\n",
    "ax.set_xlabel(\"Wavelength\")\n",
    "ax.set_ylabel(\"Flux\")\n",
    "ax.legend();"
   ]
  },
  {
   "cell_type": "code",
   "execution_count": 19,
   "metadata": {},
   "outputs": [],
   "source": [
    "N_FEATURES = 512\n",
    "EPS = 0.0005\n",
    "new_loglam = np.linspace(loglammin + EPS, loglammax - EPS, N_FEATURES)\n",
    "new_flux = minmax_scale(\n",
    "    spectres(new_loglam, loglam[loglam_idx], flux[loglam_idx], verbose=True).astype(np.float32, copy=False).reshape(1, -1),\n",
    "    feature_range=(-1, 1), axis=1, copy=False\n",
    ")"
   ]
  },
  {
   "cell_type": "code",
   "execution_count": 20,
   "metadata": {},
   "outputs": [
    {
     "data": {
      "text/plain": [
       "((512,), (1, 512))"
      ]
     },
     "execution_count": 20,
     "metadata": {},
     "output_type": "execute_result"
    }
   ],
   "source": [
    "new_loglam.shape, new_flux.shape"
   ]
  },
  {
   "cell_type": "code",
   "execution_count": 21,
   "metadata": {},
   "outputs": [
    {
     "data": {
      "image/png": "[encoded data removed]",
      "text/plain": [
       "<Figure size 432x288 with 1 Axes>"
      ]
     },
     "metadata": {
      "needs_background": "light"
     },
     "output_type": "display_data"
    }
   ],
   "source": [
    "fig, ax = plt.subplots()\n",
    "ax.plot(new_loglam, new_flux[0], label=filename)\n",
    "ax.set_xlabel(\"Wavelength\")\n",
    "ax.set_ylabel(\"Flux\")\n",
    "ax.legend();"
   ]
  },
  {
   "cell_type": "markdown",
   "metadata": {},
   "source": [
    "TODO: continuum normalisation?"
   ]
  },
  {
   "cell_type": "markdown",
   "metadata": {},
   "source": [
    "## Save Data to a HDF5 File"
   ]
  },
  {
   "cell_type": "code",
   "execution_count": 22,
   "metadata": {},
   "outputs": [],
   "source": [
    "ID_DTYPE = [(\"plate\", np.int), (\"mjd\", np.int), (\"fiberid\", np.int)]\n",
    "\n",
    "with h5py.File(\"data/dataset.hdf5\", \"x\") as datafile:\n",
    "    ids = np.zeros(len(dataset[\"PLATE\"]), dtype=ID_DTYPE)\n",
    "    ids[\"plate\"], ids[\"mjd\"], ids[\"fiberid\"] = dataset[\"PLATE\"], dataset[\"MJD\"], dataset[\"FIBERID\"]\n",
    "    ids_dset = datafile.create_dataset(\"id\", data=ids)\n",
    "    z_dset   = datafile.create_dataset(\"z\", data=dataset[\"Z\"])"
   ]
  }
 ],
 "metadata": {
  "kernelspec": {
   "display_name": "Python 3",
   "language": "python",
   "name": "python3"
  },
  "language_info": {
   "codemirror_mode": {
    "name": "ipython",
    "version": 3
   },
   "file_extension": ".py",
   "mimetype": "text/x-python",
   "name": "python",
   "nbconvert_exporter": "python",
   "pygments_lexer": "ipython3",
   "version": "3.8.2"
  }
 },
 "nbformat": 4,
 "nbformat_minor": 4
}
