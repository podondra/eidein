{
 "cells": [
  {
   "cell_type": "markdown",
   "metadata": {},
   "source": [
    "# Data Preparation of DR16Q Superset Catalogue\n",
    "\n",
    "> The superset contains 1,440,615 observations of\n",
    "> quasars, stars, and galaxies that were all targeted as\n",
    "> quasars (or appeared in previous quasar catalogs)."
   ]
  },
  {
   "cell_type": "code",
   "execution_count": null,
   "metadata": {},
   "outputs": [],
   "source": [
    "from astropy.io import fits\n",
    "from astropy.modeling import models, fitting\n",
    "import h5py\n",
    "import matplotlib.pyplot as plt\n",
    "import numpy as np\n",
    "import pandas as pd\n",
    "import seaborn as sns\n",
    "from sklearn.preprocessing import minmax_scale\n",
    "from spectres import spectres\n",
    "\n",
    "import plot"
   ]
  },
  {
   "cell_type": "code",
   "execution_count": null,
   "metadata": {},
   "outputs": [],
   "source": [
    "with fits.open(\"data/DR16Q_Superset_v3.fits\") as hdul:\n",
    "    data = hdul[1].data.byteswap().newbyteorder().copy()\n",
    "    dataset = pd.DataFrame()\n",
    "    for col in [\"PLATE\", \"MJD\", \"FIBERID\", \"Z_QN\", \"Z_10K\", \"Z_CONF_10K\", \"Z_VI\", \"Z_CONF\", \"Z\", \"SOURCE_Z\", \"Z_PIPE\", \"ZWARNING\", \"Z_PCA\", \"ZWARN_PCA\", \"CLASS_PERSON\", \"Z_CONF\"]:\n",
    "        dataset[col] = data[col]\n",
    "dataset.info()"
   ]
  },
  {
   "cell_type": "markdown",
   "metadata": {},
   "source": [
    "> For objects that have a redshift in the columns `Z_VI` or `Z_10K` and a confidence (`Z_CONF` or `Z_CONF_10K`) of ≥ 2,\n",
    "> `Z` records the corresponding redshift and `SOURCE_Z` is set to `VI`. Otherwise, if an object has a redshift in the\n",
    "> columns `Z_DR6Q_HW` or `Z_DR7Q_SCH` these values are used (with `Z_DR6Q_HW` overriding `Z_DR7Q_SCH`) and `SOURCE_Z` is\n",
    "> set to `DR6Q_HW` or `DR7QV_SCH`. As the `ZDR7Q_HW` redshifts did not formally appear in the Shen et al. (2011) paper,\n",
    "> these values are not used to populate the `Z` column.\n",
    "> If no other visual inspection redshift is populated then `Z_DR12Q` is used (and `SOURCE_Z` is set to `DR12QV`).\n",
    "> For objects with DR12Q redshifts, only the visual inspection redshifts are recorded; DR12Q pipeline redshifts\n",
    "> are not included. In the absence of any of these visual\n",
    "> inspection redshifts, `Z` is populated with the automated pipeline redshift (and `SOURCE_Z` is set to `PIPE`)."
   ]
  },
  {
   "cell_type": "code",
   "execution_count": null,
   "metadata": {},
   "outputs": [],
   "source": [
    "source_idx = dataset[\"SOURCE_Z\"] != \"PIPE\"\n",
    "gt_zero_idx = dataset[\"Z\"] > 0\n",
    "eq_zero_idx = dataset[\"Z\"] == 0\n",
    "source_idx.sum(), gt_zero_idx.sum(), eq_zero_idx.sum()"
   ]
  },
  {
   "cell_type": "code",
   "execution_count": null,
   "metadata": {},
   "outputs": [],
   "source": [
    "dataset = dataset[source_idx & (gt_zero_idx | eq_zero_idx)]\n",
    "dataset.head()"
   ]
  },
  {
   "cell_type": "code",
   "execution_count": null,
   "metadata": {},
   "outputs": [],
   "source": [
    "dataset[\"CLASS_PERSON\"].value_counts()"
   ]
  },
  {
   "cell_type": "code",
   "execution_count": null,
   "metadata": {},
   "outputs": [],
   "source": [
    "fig, ax = plt.subplots()\n",
    "ax.set_xlabel(\"z\")\n",
    "ax.set_ylabel(\"Density\")\n",
    "sns.kdeplot(data=dataset, x=\"Z\", ax=ax);"
   ]
  },
  {
   "cell_type": "markdown",
   "metadata": {},
   "source": [
    "## Wavelength Range"
   ]
  },
  {
   "cell_type": "code",
   "execution_count": null,
   "metadata": {},
   "outputs": [],
   "source": [
    "with fits.open(\"data/specObj-dr16.fits\") as hdul:\n",
    "    data = hdul[1].data.byteswap().newbyteorder().copy()\n",
    "    specobj = pd.DataFrame()\n",
    "    for col in [\"PLATE\", \"MJD\", \"FIBERID\", \"WAVEMIN\", \"WAVEMAX\"]:\n",
    "        specobj[col] = data[col]\n",
    "specobj.head()"
   ]
  },
  {
   "cell_type": "code",
   "execution_count": null,
   "metadata": {},
   "outputs": [],
   "source": [
    "dataset = pd.merge(dataset, specobj, on=[\"PLATE\", \"MJD\", \"FIBERID\"], how=\"left\")\n",
    "dataset.head()"
   ]
  },
  {
   "cell_type": "code",
   "execution_count": null,
   "metadata": {},
   "outputs": [],
   "source": [
    "dataset[[\"WAVEMIN\", \"WAVEMAX\"]].describe()"
   ]
  },
  {
   "cell_type": "code",
   "execution_count": null,
   "metadata": {},
   "outputs": [],
   "source": [
    "fig, ax = plt.subplots()\n",
    "ax.set_xlabel(\"Wavelength\")\n",
    "ax.set_ylabel(\"Count\")\n",
    "lammin = dataset[\"WAVEMIN\"].quantile(0.999)\n",
    "lammax = dataset[\"WAVEMAX\"].quantile(0.001)\n",
    "ax.axvline(lammin, color=\"k\", linestyle=\"--\")\n",
    "ax.axvline(lammax, color=\"k\", linestyle=\"-.\")\n",
    "sns.ecdfplot(data=dataset, x=\"WAVEMIN\", stat=\"count\", label=\"Minimal Wavelength\", ax=ax)\n",
    "sns.ecdfplot(data=dataset, x=\"WAVEMAX\", stat=\"count\", label=\"Maximal Wavelength\", complementary=True, ax=ax)\n",
    "ax.legend();"
   ]
  },
  {
   "cell_type": "code",
   "execution_count": null,
   "metadata": {},
   "outputs": [],
   "source": [
    "lammin, lammax"
   ]
  },
  {
   "cell_type": "code",
   "execution_count": null,
   "metadata": {},
   "outputs": [],
   "source": [
    "lam_idx = (dataset[\"WAVEMIN\"] < lammin) & (dataset[\"WAVEMAX\"] > lammax)\n",
    "dataset.shape[0], lam_idx.sum()"
   ]
  },
  {
   "cell_type": "code",
   "execution_count": null,
   "metadata": {},
   "outputs": [],
   "source": [
    "loglammin, loglammax = np.log10(lammin), np.log10(lammax)\n",
    "loglammin, loglammax"
   ]
  },
  {
   "cell_type": "code",
   "execution_count": null,
   "metadata": {},
   "outputs": [],
   "source": [
    "dataset = dataset[lam_idx]\n",
    "dataset"
   ]
  },
  {
   "cell_type": "code",
   "execution_count": null,
   "metadata": {},
   "outputs": [],
   "source": [
    "dataset.to_csv(\"data/dataset.csv\", index=False)"
   ]
  },
  {
   "cell_type": "markdown",
   "metadata": {},
   "source": [
    "## Preview"
   ]
  },
  {
   "cell_type": "code",
   "execution_count": null,
   "metadata": {},
   "outputs": [],
   "source": [
    "rnd_idx = np.random.randint(dataset.shape[0])\n",
    "plate, mjd, fiberid = dataset.iloc[rnd_idx][[\"PLATE\", \"MJD\", \"FIBERID\"]]\n",
    "filename = \"spec-{:04d}-{}-{:04d}.fits\".format(plate, mjd, fiberid)\n",
    "filepath = \"data/DR16Q_Superset_v3/{:04d}/\".format(plate) + filename\n",
    "with fits.open(filepath) as hdul:\n",
    "    data = hdul[1].data\n",
    "    loglam = data[\"loglam\"]\n",
    "    flux = data[\"flux\"]\n",
    "\n",
    "fig, ax = plt.subplots()\n",
    "ax.plot(loglam, flux, label=filename)\n",
    "ax.set_xlabel(\"Wavelength\")\n",
    "ax.set_ylabel(\"Flux\")\n",
    "ax.legend();"
   ]
  },
  {
   "cell_type": "code",
   "execution_count": null,
   "metadata": {},
   "outputs": [],
   "source": [
    "loglam_idx = (loglammin <= loglam) & (loglam <= loglammax)\n",
    "n_pixels = lam_idx.sum()\n",
    "n_pixels"
   ]
  },
  {
   "cell_type": "code",
   "execution_count": null,
   "metadata": {},
   "outputs": [],
   "source": [
    "fig, ax = plt.subplots()\n",
    "ax.plot(loglam[loglam_idx], flux[loglam_idx], label=filename)\n",
    "ax.set_xlabel(\"Wavelength\")\n",
    "ax.set_ylabel(\"Flux\")\n",
    "ax.legend();"
   ]
  },
  {
   "cell_type": "code",
   "execution_count": null,
   "metadata": {},
   "outputs": [],
   "source": [
    "N_FEATURES = 512\n",
    "EPS = 0.0005\n",
    "new_loglam = np.linspace(loglammin + EPS, loglammax - EPS, N_FEATURES)\n",
    "new_flux = minmax_scale(\n",
    "    spectres(new_loglam, loglam[loglam_idx], flux[loglam_idx], verbose=True).astype(np.float32, copy=False).reshape(1, -1),\n",
    "    feature_range=(-1, 1), axis=1, copy=False\n",
    ")"
   ]
  },
  {
   "cell_type": "code",
   "execution_count": null,
   "metadata": {},
   "outputs": [],
   "source": [
    "new_loglam.shape, new_flux.shape"
   ]
  },
  {
   "cell_type": "code",
   "execution_count": null,
   "metadata": {},
   "outputs": [],
   "source": [
    "fig, ax = plt.subplots()\n",
    "ax.plot(new_loglam, new_flux[0], label=filename)\n",
    "ax.set_xlabel(\"Wavelength\")\n",
    "ax.set_ylabel(\"Flux\")\n",
    "ax.legend();"
   ]
  },
  {
   "cell_type": "markdown",
   "metadata": {},
   "source": [
    "## TODO: Continuum Normalisation\n",
    "\n",
    "1. normalize continuum\n",
    "2. proper scaling"
   ]
  },
  {
   "cell_type": "code",
   "execution_count": null,
   "metadata": {},
   "outputs": [],
   "source": [
    "flux = X[np.random.randint(ids.shape[0])]\n",
    "\n",
    "fit = fitting.LevMarLSQFitter()    # initialize a linear fitter\n",
    "line_init = models.Chebyshev1D(3)    # initialize a linear model\n",
    "fitted_line = fit(line_init, plot.WAVE, flux)    # fit the data with the fitter\n",
    "continuum = fitted_line(plot.WAVE)\n",
    "\n",
    "fig, ax = plt.subplots()\n",
    "plot.spectrum(ax, flux)\n",
    "ax.plot(plot.WAVE, continuum)\n",
    "plot.spectrum(ax, flux - continuum)"
   ]
  },
  {
   "cell_type": "markdown",
   "metadata": {},
   "source": [
    "## Save Data to a HDF5 File"
   ]
  },
  {
   "cell_type": "code",
   "execution_count": null,
   "metadata": {},
   "outputs": [],
   "source": [
    "ID_DTYPE = [(\"plate\", np.int), (\"mjd\", np.int), (\"fiberid\", np.int)]\n",
    "\n",
    "with h5py.File(\"data/dataset.hdf5\", \"x\") as datafile:\n",
    "    ids = np.zeros(len(dataset[\"PLATE\"]), dtype=ID_DTYPE)\n",
    "    ids[\"plate\"], ids[\"mjd\"], ids[\"fiberid\"] = dataset[\"PLATE\"], dataset[\"MJD\"], dataset[\"FIBERID\"]\n",
    "    ids_dset = datafile.create_dataset(\"id\", data=ids)\n",
    "    z_dset   = datafile.create_dataset(\"z\", data=dataset[\"Z\"])"
   ]
  }
 ],
 "metadata": {
  "kernelspec": {
   "display_name": "Python 3",
   "language": "python",
   "name": "python3"
  },
  "language_info": {
   "codemirror_mode": {
    "name": "ipython",
    "version": 3
   },
   "file_extension": ".py",
   "mimetype": "text/x-python",
   "name": "python",
   "nbconvert_exporter": "python",
   "pygments_lexer": "ipython3",
   "version": "3.8.5"
  }
 },
 "nbformat": 4,
 "nbformat_minor": 4
}
